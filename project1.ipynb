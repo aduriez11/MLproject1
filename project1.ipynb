{
 "cells": [
  {
   "cell_type": "code",
   "execution_count": 1,
   "metadata": {
    "tags": []
   },
   "outputs": [],
   "source": [
    "# Useful starting lines\n",
    "%matplotlib inline\n",
    "import numpy as np\n",
    "import matplotlib.pyplot as plt\n",
    "%load_ext autoreload\n",
    "%autoreload 2"
   ]
  },
  {
   "cell_type": "markdown",
   "metadata": {},
   "source": [
    "## Load the training data into feature matrix, class labels, and event ids:"
   ]
  },
  {
   "cell_type": "code",
   "execution_count": 28,
   "metadata": {},
   "outputs": [],
   "source": [
    "from implementations import *"
   ]
  },
  {
   "cell_type": "code",
   "execution_count": 3,
   "metadata": {
    "collapsed": false,
    "jupyter": {
     "outputs_hidden": false
    }
   },
   "outputs": [],
   "source": [
    "from proj1_helpers import *\n",
    "DATA_TRAIN_PATH = 'data/train.csv' # TODO: download train data and supply path here \n",
    "y, tX, ids = load_csv_data(DATA_TRAIN_PATH)"
   ]
  },
  {
   "cell_type": "markdown",
   "metadata": {},
   "source": [
    "## Do your thing crazy machine learning thing here :) ..."
   ]
  },
  {
   "cell_type": "markdown",
   "metadata": {},
   "source": [
    "We have the only one column with integer values (it looks like clusters), so we divide the dataset by this value"
   ]
  },
  {
   "cell_type": "code",
   "execution_count": 4,
   "metadata": {},
   "outputs": [
    {
     "data": {
      "text/plain": [
       "array([0., 1., 2., 3.])"
      ]
     },
     "execution_count": 4,
     "metadata": {},
     "output_type": "execute_result"
    }
   ],
   "source": [
    "np.unique(tX[:,22])"
   ]
  },
  {
   "cell_type": "code",
   "execution_count": 5,
   "metadata": {},
   "outputs": [
    {
     "name": "stdout",
     "output_type": "stream",
     "text": [
      "Shapes of clusters are:  (99913, 30) (77544, 30) (50379, 30) (22164, 30)\n"
     ]
    }
   ],
   "source": [
    "tX0=np.copy(tX[tX[:,22]==0,:])\n",
    "ids0=np.copy(ids[tX[:,22]==0])\n",
    "y0 = np.copy(y[tX[:,22]==0])\n",
    "\n",
    "tX1=np.copy(tX[tX[:,22]==1,:])\n",
    "ids1=np.copy(ids[tX[:,22]==1])\n",
    "y1 = np.copy(y[tX[:,22]==1])\n",
    "\n",
    "tX2=np.copy(tX[tX[:,22]==2,:])\n",
    "ids2=np.copy(ids[tX[:,22]==2])\n",
    "y2 =  np.copy(y[tX[:,22]==2])\n",
    "\n",
    "tX3=np.copy(tX[tX[:,22]==3,:])\n",
    "ids3=np.copy(ids[tX[:,22]==3])\n",
    "y3 =  np.copy(y[tX[:,22]==3])\n",
    "\n",
    "print('Shapes of clusters are: ',tX0.shape,tX1.shape,tX2.shape,tX3.shape)"
   ]
  },
  {
   "cell_type": "code",
   "execution_count": 6,
   "metadata": {},
   "outputs": [],
   "source": [
    "#Deleting columns with clusters\n",
    "tX0=np.copy(np.delete(tX0,(22),axis=1))\n",
    "tX1=np.copy(np.delete(tX1,(22),axis=1))\n",
    "tX2=np.copy(np.delete(tX2,(22),axis=1))\n",
    "tX3=np.copy(np.delete(tX3,(22),axis=1))"
   ]
  },
  {
   "cell_type": "code",
   "execution_count": 7,
   "metadata": {},
   "outputs": [
    {
     "name": "stdout",
     "output_type": "stream",
     "text": [
      "Amount of NaNs in 0 cluster: \n",
      " [26123     0     0     0 99913 99913 99913     0     0     0     0     0\n",
      " 99913     0     0     0     0     0     0     0     0     0 99913 99913\n",
      " 99913 99913 99913 99913     0]\n",
      "Amount of NaNs in 1 cluster: \n",
      " [ 7562     0     0     0 77544 77544 77544     0     0     0     0     0\n",
      " 77544     0     0     0     0     0     0     0     0     0     0     0\n",
      "     0 77544 77544 77544     0]\n",
      "Amount of NaNs in 2 cluster: \n",
      " [2952    0    0    0    0    0    0    0    0    0    0    0    0    0\n",
      "    0    0    0    0    0    0    0    0    0    0    0    0    0    0\n",
      "    0]\n",
      "Amount of NaNs in 3 cluster: \n",
      " [1477    0    0    0    0    0    0    0    0    0    0    0    0    0\n",
      "    0    0    0    0    0    0    0    0    0    0    0    0    0    0\n",
      "    0]\n"
     ]
    }
   ],
   "source": [
    "#Counting NaNs in columns in each cluster\n",
    "print('Amount of NaNs in 0 cluster: \\n',np.count_nonzero(tX0==-999.0, axis = 0))\n",
    "print('Amount of NaNs in 1 cluster: \\n',np.count_nonzero(tX1==-999.0, axis = 0))\n",
    "print('Amount of NaNs in 2 cluster: \\n',np.count_nonzero(tX2==-999.0, axis = 0))\n",
    "print('Amount of NaNs in 3 cluster: \\n',np.count_nonzero(tX3==-999.0, axis = 0))"
   ]
  },
  {
   "cell_type": "markdown",
   "metadata": {},
   "source": [
    "We see that in clusters 0 and 1 some columns consist only of NaNs That's why we will delete these columns."
   ]
  },
  {
   "cell_type": "code",
   "execution_count": 8,
   "metadata": {},
   "outputs": [],
   "source": [
    "#Deleting columns where all values are same\n",
    "tX0cl=np.copy(tX0[:,np.invert(np.all(tX0 == tX0[0,:], axis = 0))])\n",
    "tX1cl=np.copy(tX1[:,np.invert(np.all(tX1 == tX1[0,:], axis = 0))])\n",
    "tX2cl=np.copy(tX2[:,np.invert(np.all(tX2 == tX2[0,:], axis = 0))])\n",
    "tX3cl=np.copy(tX3[:,np.invert(np.all(tX3 == tX3[0,:], axis = 0))])"
   ]
  },
  {
   "cell_type": "markdown",
   "metadata": {},
   "source": [
    "Now we have cleaned all columns except the first one. We have different ways to work with it"
   ]
  },
  {
   "cell_type": "markdown",
   "metadata": {},
   "source": [
    "#### 1.Delete rows with NaNs in the first column"
   ]
  },
  {
   "cell_type": "code",
   "execution_count": 9,
   "metadata": {},
   "outputs": [],
   "source": [
    "#Don't overwrite global variables\n",
    "tX0=np.copy(tX0cl)\n",
    "tX1=np.copy(tX1cl)\n",
    "tX2=np.copy(tX2cl)\n",
    "tX3=np.copy(tX3cl)"
   ]
  },
  {
   "cell_type": "code",
   "execution_count": 10,
   "metadata": {},
   "outputs": [],
   "source": [
    "#Deleting rows with NaNs\n",
    "ids0d=np.copy(ids0[tX0[:,0]!=-999.0])\n",
    "y0d = np.copy(y0[tX0[:,0]!=-999.0])\n",
    "tX0=np.copy(tX0[tX0[:,0]!=-999.0,:])\n",
    "\n",
    "ids1d=np.copy(ids1[tX1[:,0]!=-999.0])\n",
    "y1d = np.copy(y1[tX1[:,0]!=-999.0])\n",
    "tX1=np.copy(tX1[tX1[:,0]!=-999.0,:])\n",
    "\n",
    "ids2d=np.copy(ids2[tX2[:,0]!=-999.0])\n",
    "y2d = np.copy(y2[tX2[:,0]!=-999.0])\n",
    "tX2=np.copy(tX2[tX2[:,0]!=-999.0,:])\n",
    "\n",
    "ids3d=np.copy(ids3[tX3[:,0]!=-999.0])\n",
    "y3d = np.copy(y3[tX3[:,0]!=-999.0])\n",
    "tX3=np.copy(tX3[tX3[:,0]!=-999.0,:])"
   ]
  },
  {
   "cell_type": "markdown",
   "metadata": {},
   "source": [
    "##### 1.1. See the correlation between regressors"
   ]
  },
  {
   "cell_type": "markdown",
   "metadata": {},
   "source": [
    "Now let's see correlation between regressors"
   ]
  },
  {
   "cell_type": "code",
   "execution_count": 11,
   "metadata": {},
   "outputs": [
    {
     "name": "stdout",
     "output_type": "stream",
     "text": [
      "Pearson correlation between column 0 and 2 : 0.9428649994377921\n",
      "Pearson correlation between column 1 and 7 : 0.7025329814432556\n",
      "Pearson correlation between column 3 and 5 : 0.9999999999991431\n",
      "Pearson correlation between column 6 and 9 : 0.7921536842510372\n",
      "Pearson correlation between column 6 and 12 : 0.7801737531532945\n"
     ]
    }
   ],
   "source": [
    "#Correlation between regressors in tX0\n",
    "for i in range(len(tX0[0,:])):\n",
    "    for j in range(i+1,len(tX0[0,:])):\n",
    "        corr = np.corrcoef(tX0[:,i],tX0[:,j])\n",
    "        if np.abs(np.corrcoef(tX0[:,i],tX0[:,j])[0,1])> 0.7:\n",
    "            print(\"Pearson correlation between column {i} and {j} : {corr}\".format(i=i,j=j,corr=corr[0,1]))"
   ]
  },
  {
   "cell_type": "markdown",
   "metadata": {},
   "source": [
    "So it makes sense to drop columns 0,3,6"
   ]
  },
  {
   "cell_type": "code",
   "execution_count": 12,
   "metadata": {},
   "outputs": [],
   "source": [
    "#Dropping columns\n",
    "tX0=tX0[:,[i for i in range(tX0.shape[1]) if i not in [0,3,6]]]"
   ]
  },
  {
   "cell_type": "code",
   "execution_count": 13,
   "metadata": {},
   "outputs": [
    {
     "name": "stdout",
     "output_type": "stream",
     "text": [
      "Pearson correlation between column 0 and 2 : 0.9203955805006697\n",
      "Pearson correlation between column 3 and 6 : 0.880515673723393\n",
      "Pearson correlation between column 3 and 15 : 0.7067535021056447\n",
      "Pearson correlation between column 3 and 17 : 0.719783491337637\n",
      "Pearson correlation between column 3 and 18 : 0.9473952774313399\n",
      "Pearson correlation between column 3 and 21 : 0.9473952764775125\n",
      "Pearson correlation between column 6 and 17 : 0.7682569234879949\n",
      "Pearson correlation between column 6 and 18 : 0.9128480282626462\n",
      "Pearson correlation between column 6 and 21 : 0.9128480302418414\n",
      "Pearson correlation between column 7 and 12 : 0.7106467382693462\n",
      "Pearson correlation between column 17 and 18 : 0.721078263561643\n",
      "Pearson correlation between column 17 and 21 : 0.7210782626271482\n",
      "Pearson correlation between column 18 and 21 : 0.9999999999990334\n"
     ]
    }
   ],
   "source": [
    "#Correlation between regressors in tX1\n",
    "for i in range(len(tX1[0,:])):\n",
    "    for j in range(i+1,len(tX1[0,:])):\n",
    "        corr = np.corrcoef(tX1[:,i],tX1[:,j])\n",
    "        if np.abs(np.corrcoef(tX1[:,i],tX1[:,j])[0,1])> 0.7:\n",
    "            print(\"Pearson correlation between column {i} and {j} : {corr}\".format(i=i,j=j,corr=corr[0,1]))"
   ]
  },
  {
   "cell_type": "markdown",
   "metadata": {},
   "source": [
    "Let's drop columns 0,3,6,21"
   ]
  },
  {
   "cell_type": "code",
   "execution_count": 14,
   "metadata": {},
   "outputs": [],
   "source": [
    "#Dropping columns\n",
    "tX1=tX1[:,[i for i in range(tX1.shape[1]) if i not in [0,3,6,21]]]"
   ]
  },
  {
   "cell_type": "code",
   "execution_count": 15,
   "metadata": {},
   "outputs": [
    {
     "name": "stdout",
     "output_type": "stream",
     "text": [
      "Pearson correlation between column 0 and 2 : 0.8882697562122746\n",
      "Pearson correlation between column 3 and 9 : 0.8100583553617612\n",
      "Pearson correlation between column 3 and 19 : 0.7727347641970795\n",
      "Pearson correlation between column 3 and 21 : 0.7106329242566304\n",
      "Pearson correlation between column 3 and 22 : 0.8064082142710389\n",
      "Pearson correlation between column 3 and 28 : 0.7651054026528024\n",
      "Pearson correlation between column 4 and 5 : 0.8102770843828327\n",
      "Pearson correlation between column 4 and 6 : -0.8533511261674986\n",
      "Pearson correlation between column 5 and 6 : -0.7806386730593765\n",
      "Pearson correlation between column 9 and 21 : 0.8630680375230015\n",
      "Pearson correlation between column 9 and 22 : 0.9212004546370948\n",
      "Pearson correlation between column 9 and 28 : 0.9417446400854351\n",
      "Pearson correlation between column 10 and 16 : 0.7427175522749608\n",
      "Pearson correlation between column 21 and 22 : 0.8087380200255875\n",
      "Pearson correlation between column 21 and 28 : 0.8269810542575168\n",
      "Pearson correlation between column 22 and 28 : 0.9584434603145308\n",
      "Pearson correlation between column 25 and 28 : 0.7179977621623423\n"
     ]
    }
   ],
   "source": [
    "#Correlation between regressors in tX2\n",
    "for i in range(len(tX2[0,:])):\n",
    "    for j in range(i+1,len(tX2[0,:])):\n",
    "        corr = np.corrcoef(tX2[:,i],tX2[:,j])\n",
    "        if np.abs(np.corrcoef(tX2[:,i],tX2[:,j])[0,1])> 0.7:\n",
    "            print(\"Pearson correlation between column {i} and {j} : {corr}\".format(i=i,j=j,corr=corr[0,1]))"
   ]
  },
  {
   "cell_type": "markdown",
   "metadata": {},
   "source": [
    "Drop columns 0,3,4,9,22"
   ]
  },
  {
   "cell_type": "code",
   "execution_count": 16,
   "metadata": {},
   "outputs": [],
   "source": [
    "#Dropping columns\n",
    "tX2=tX2[:,[i for i in range(tX2.shape[1]) if i not in [0,3,4,9,22]]]"
   ]
  },
  {
   "cell_type": "code",
   "execution_count": 17,
   "metadata": {},
   "outputs": [
    {
     "name": "stdout",
     "output_type": "stream",
     "text": [
      "Pearson correlation between column 0 and 2 : 0.8939715045042343\n",
      "Pearson correlation between column 3 and 19 : 0.7852631621337898\n",
      "Pearson correlation between column 4 and 5 : 0.758652958037284\n",
      "Pearson correlation between column 4 and 6 : -0.7768024192719148\n",
      "Pearson correlation between column 9 and 21 : 0.9209360084498386\n",
      "Pearson correlation between column 9 and 22 : 0.8823253774045843\n",
      "Pearson correlation between column 9 and 25 : 0.7709015614616341\n",
      "Pearson correlation between column 9 and 28 : 0.957878606826293\n",
      "Pearson correlation between column 10 and 16 : 0.7636779915431535\n",
      "Pearson correlation between column 21 and 22 : 0.817603943920867\n",
      "Pearson correlation between column 21 and 25 : 0.7259662973246287\n",
      "Pearson correlation between column 21 and 28 : 0.8968125698294412\n",
      "Pearson correlation between column 22 and 28 : 0.8874163028182186\n",
      "Pearson correlation between column 25 and 28 : 0.83669471775916\n"
     ]
    }
   ],
   "source": [
    "#Correlation between regressors in tX3\n",
    "for i in range(len(tX3[0,:])):\n",
    "    for j in range(i+1,len(tX3[0,:])):\n",
    "        corr = np.corrcoef(tX3[:,i],tX3[:,j])\n",
    "        if np.abs(np.corrcoef(tX3[:,i],tX3[:,j])[0,1])> 0.7:\n",
    "            print(\"Pearson correlation between column {i} and {j} : {corr}\".format(i=i,j=j,corr=corr[0,1]))"
   ]
  },
  {
   "cell_type": "markdown",
   "metadata": {},
   "source": [
    "Drop columns 0,9,21,22"
   ]
  },
  {
   "cell_type": "code",
   "execution_count": 18,
   "metadata": {},
   "outputs": [],
   "source": [
    "#Dropping columns\n",
    "tX3=tX3[:,[i for i in range(tX3.shape[1]) if i not in [0,9,21,22]]]"
   ]
  },
  {
   "cell_type": "code",
   "execution_count": 19,
   "metadata": {},
   "outputs": [],
   "source": [
    "#TODO Check correlation between regressors and the result value"
   ]
  },
  {
   "cell_type": "code",
   "execution_count": 20,
   "metadata": {},
   "outputs": [],
   "source": [
    "#Data standartization\n",
    "tX0_11=standartize(tX0)\n",
    "tX1_11=standartize(tX1)\n",
    "tX2_11=standartize(tX2)\n",
    "tX3_11=standartize(tX3)"
   ]
  },
  {
   "cell_type": "markdown",
   "metadata": {},
   "source": [
    "### Models creation (tX0_11..tX3_11 to y0d...y3d)"
   ]
  },
  {
   "cell_type": "markdown",
   "metadata": {},
   "source": [
    "###### Linear regression"
   ]
  },
  {
   "cell_type": "code",
   "execution_count": 21,
   "metadata": {},
   "outputs": [
    {
     "data": {
      "text/plain": [
       "([array([-2.06880312e-01, -4.58597236e-01,  3.52838215e-01,  3.23421071e-02,\n",
       "         -1.58959755e-01, -1.15919349e-02,  2.81667771e-01,  9.47439000e-05,\n",
       "          4.26477717e-04,  1.65336871e-01,  4.68799168e-03,  6.38468391e-04,\n",
       "         -2.37790473e-02, -6.95609668e-03,  3.95805980e-02]),\n",
       "  array([-2.06301728e-01, -2.50211556e-01,  2.76199667e-01,  3.96837306e-02,\n",
       "         -1.91784626e-01,  1.18899478e-01,  1.77286403e-01,  3.66955178e-03,\n",
       "         -6.06497299e-03,  2.48889753e-01, -8.70445912e-03, -8.68657328e-07,\n",
       "          4.95246061e-02,  4.34505291e-03, -2.81561347e-02,  5.48007959e-02,\n",
       "         -5.30974371e-04, -2.24981539e-03]),\n",
       "  array([-0.16371398, -0.15131667,  0.20788056,  0.00735713,  0.22116094,\n",
       "         -0.0555752 , -0.15740836,  0.13985692,  0.18505956,  0.21305616,\n",
       "         -0.00308169,  0.00068213,  0.2712701 , -0.00727277,  0.00293023,\n",
       "          0.15992448,  0.0052238 , -0.11861323,  0.00838199,  0.00867409,\n",
       "          0.0940448 ,  0.0048366 , -0.00577548, -0.1505115 ]),\n",
       "  array([-1.03408034e-01, -1.38354123e-01,  2.54979444e-01, -1.10458663e-01,\n",
       "          2.14256921e-01,  2.75855932e-02,  2.33258219e-01,  1.52286487e-02,\n",
       "         -1.74817676e-01,  7.64653969e-02,  1.02163275e-01,  7.07684288e-02,\n",
       "         -8.72203636e-03, -2.82541050e-04,  1.61474625e-01, -4.10706389e-03,\n",
       "          3.86116034e-03,  1.60786541e-02,  5.90055502e-03, -2.42244334e-03,\n",
       "         -1.32060349e-03,  3.48126383e-02,  8.27382761e-03,  1.36851344e-03,\n",
       "         -2.92132137e-01])],\n",
       " [0.8655253268669649,\n",
       "  0.9146404549646151,\n",
       "  0.8531872782441865,\n",
       "  0.9358064809053154])"
      ]
     },
     "execution_count": 21,
     "metadata": {},
     "output_type": "execute_result"
    }
   ],
   "source": [
    "y = [y0d, y1d, y2d, y3d]\n",
    "tXst = [tX0_11, tX1_11, tX2_11, tX3_11]\n",
    "def LinearRegressionSubmission(y, tXst):\n",
    "    w_list = []\n",
    "    rmse_list = []\n",
    "    for i in range(len(y)):\n",
    "        w, mse = least_squares(y[i], tXst[i])\n",
    "        w_list.append(w)\n",
    "        rmse_list.append(np.sqrt(2*mse))\n",
    "    return w_list, rmse_list\n",
    "LinearRegressionSubmission(y, tXst)"
   ]
  },
  {
   "cell_type": "markdown",
   "metadata": {},
   "source": [
    "###### Linear regression with polynomial expansion"
   ]
  },
  {
   "cell_type": "code",
   "execution_count": 52,
   "metadata": {},
   "outputs": [],
   "source": [
    "def polynomial_regression(y,tXst):\n",
    "    \"\"\"Constructing the polynomial basis function expansion of the data,\n",
    "       and then running least squares regression.\"\"\"\n",
    "    # define parameters\n",
    "    degrees = [1, 3,7,12]\n",
    "    mean_rmse = np.zeros((4,len(degrees)))\n",
    "    k_fold = 4\n",
    "    seed = 1\n",
    "    rmse_tr = []\n",
    "    rmse_te = []\n",
    "    test = []\n",
    "    deg = []\n",
    "    minimum = []\n",
    "    for ind,degree in enumerate(degrees):\n",
    "        for i in range(0,4):\n",
    "            print(\"Subset {i}, degree {degree}\".format(i = i, degree=degree))\n",
    "            k_indices,indices = build_k_indices(y[i], k_fold,seed)\n",
    "            loss_tr=0\n",
    "            loss_te=0\n",
    "            rmse_te_tmp = []\n",
    "            for k in range(k_fold):\n",
    "                l_tr, l_te = cross_validation_leastsquares(y[i], tXst[i], k_indices, k,degree)\n",
    "                #loss_tr+=l_tr\n",
    "                loss_te+=l_te\n",
    "                #rmse_tr_tmp.append(l_te)\n",
    "            mean_rmse[i][ind]=loss_te/k_fold\n",
    "            print(mean_rmse[i][ind])\n",
    "            \n",
    "    for i in range(0,4):\n",
    "        test.append(mean_rmse[i].tolist())\n",
    "        #print(test[i])\n",
    "        deg.append(degrees[np.argmin(mean_rmse[i])])\n",
    "        minimum.append(min(test[i]))\n",
    "        print(\"Best degree for subset {i}: {degree}, test error: {err}\".format(i = i,degree=degrees[np.argmin(mean_rmse[i])],err=min(test[i])))\n",
    "    return deg , minimum"
   ]
  },
  {
   "cell_type": "code",
   "execution_count": 53,
   "metadata": {},
   "outputs": [
    {
     "name": "stdout",
     "output_type": "stream",
     "text": [
      "Subset 0, degree 1\n",
      "0.7919284693081986\n",
      "Subset 1, degree 1\n",
      "0.8859956769469683\n",
      "Subset 2, degree 1\n",
      "0.851156681153518\n",
      "Subset 3, degree 1\n",
      "0.86537897664666\n",
      "Subset 0, degree 3\n",
      "81.63576812355517\n",
      "Subset 1, degree 3\n",
      "0.8421616433385937\n",
      "Subset 2, degree 3\n",
      "0.8036165091579167\n",
      "Subset 3, degree 3\n",
      "0.8199369424492217\n",
      "Subset 0, degree 7\n",
      "2564876011.9537005\n",
      "Subset 1, degree 7\n",
      "3.2254878624376015\n",
      "Subset 2, degree 7\n",
      "10.235280313954352\n",
      "Subset 3, degree 7\n",
      "37.59331163480998\n",
      "Subset 0, degree 12\n",
      "3.0149486471816233e+19\n",
      "Subset 1, degree 12\n",
      "663.5114439672009\n",
      "Subset 2, degree 12\n",
      "68106.68240999884\n",
      "Subset 3, degree 12\n",
      "168921.39368787792\n",
      "Best degree for subset 0: 1, test error: 0.7919284693081986\n",
      "Best degree for subset 1: 3, test error: 0.8421616433385937\n",
      "Best degree for subset 2: 3, test error: 0.8036165091579167\n",
      "Best degree for subset 3: 3, test error: 0.8199369424492217\n"
     ]
    },
    {
     "data": {
      "text/plain": [
       "([1, 3, 3, 3],\n",
       " [0.7919284693081986,\n",
       "  0.8421616433385937,\n",
       "  0.8036165091579167,\n",
       "  0.8199369424492217])"
      ]
     },
     "execution_count": 53,
     "metadata": {},
     "output_type": "execute_result"
    }
   ],
   "source": [
    "polynomial_regression(y,tXst)"
   ]
  },
  {
   "cell_type": "markdown",
   "metadata": {},
   "source": [
    "### Gradient descent"
   ]
  },
  {
   "cell_type": "code",
   "execution_count": null,
   "metadata": {},
   "outputs": [],
   "source": [
    "def GradientDescentSubmission(y, tXst):\n",
    "  # Define the parameters of the algorithm.\n",
    "    max_iters = 1000\n",
    "    gamma = 0.5\n",
    "  # Initialization\n",
    "    \n",
    "    w_list = []\n",
    "    loss_list = []\n",
    "  # Start GD\n",
    "    for i in range(4):\n",
    "        w_initial = np.array([0 for i in range(tXst[i].shape[1])])\n",
    "        gradient_loss, gradient_w = gradient_descent(y[i], tXst[i], w_initial, max_iters, gamma)\n",
    "        w_list.append(gradient_w)\n",
    "        loss_list.append(gradient_loss)\n",
    "    return w_list, loss_list\n",
    "GradientDescentSubmission(y,tXst)"
   ]
  },
  {
   "cell_type": "code",
   "execution_count": null,
   "metadata": {},
   "outputs": [
    {
     "data": {
      "text/plain": [
       "array([-2.        , -1.55555556, -1.11111111, -0.66666667, -0.22222222,\n",
       "        0.22222222,  0.66666667,  1.11111111,  1.55555556,  2.        ])"
      ]
     },
     "execution_count": 74,
     "metadata": {},
     "output_type": "execute_result"
    }
   ],
   "source": [
    "np.linspace(-2,2,10)"
   ]
  },
  {
   "cell_type": "markdown",
   "metadata": {},
   "source": [
    "###### Stochastic gradient descent"
   ]
  },
  {
   "cell_type": "code",
   "execution_count": 24,
   "metadata": {},
   "outputs": [
    {
     "data": {
      "text/plain": [
       "([array([-0.03953648, -0.00835486,  0.01807197, -0.00663377, -0.02433187,\n",
       "          0.01337897,  0.01250804,  0.00348614, -0.00726161, -0.01795264,\n",
       "         -0.0077468 ,  0.01124808, -0.02361948, -0.01893504,  0.00024943]),\n",
       "  array([-0.02351591,  0.00108344,  0.01301907, -0.00146986, -0.03370089,\n",
       "          0.02917919,  0.02215244, -0.00269818, -0.01068807, -0.01748665,\n",
       "         -0.00024932, -0.00090134,  0.00666417, -0.00540354,  0.00534665,\n",
       "          0.01400693, -0.00442097,  0.0080783 ]),\n",
       "  array([-0.01726204, -0.00730088,  0.03067101, -0.0321546 , -0.00369207,\n",
       "         -0.00240034, -0.02041713,  0.00798676,  0.03914496,  0.02928135,\n",
       "          0.00298133, -0.00496922, -0.00728747, -0.00343598,  0.01795668,\n",
       "         -0.00532421, -0.00087185, -0.00793809, -0.00393357, -0.02118535,\n",
       "         -0.00500613,  0.0070464 ,  0.00690569, -0.00915552]),\n",
       "  array([-0.01108834,  0.00796019,  0.02183295, -0.00056793, -0.00041752,\n",
       "         -0.00297566, -0.00638126,  0.00488044, -0.00836563,  0.02253265,\n",
       "          0.01397209,  0.01145584,  0.00063767,  0.00661705,  0.00477859,\n",
       "         -0.00297739, -0.00743506,  0.01387951,  0.00011055, -0.00834455,\n",
       "         -0.00597571, -0.00819478,  0.00544559, -0.00489284,  0.00141563])],\n",
       " [0.4651956435121739,\n",
       "  0.474697531957048,\n",
       "  0.45932730119435167,\n",
       "  0.48683941341480225])"
      ]
     },
     "execution_count": 24,
     "metadata": {},
     "output_type": "execute_result"
    }
   ],
   "source": [
    "def StochasticGradientDescent(y, tXst):\n",
    "  # Define the parameters of the algorithm.\n",
    "    max_iters = 100\n",
    "    gamma = 0.001\n",
    "    batch_size = 1\n",
    "  # Initialization\n",
    "    w_list = []\n",
    "    loss_list = []\n",
    "  # Start SGD.\n",
    "    for i in range(4):\n",
    "        w_initial = np.array([0 for i in range(tXst[i].shape[1])])\n",
    "        sgd_losses, sgd_w = stochastic_gradient_descent(y[i], tXst[i], w_initial, batch_size, max_iters, gamma)\n",
    "        w_list.append(sgd_w)\n",
    "        loss_list.append(sgd_losses)\n",
    "    return w_list, loss_list\n",
    "StochasticGradientDescent(y, tXst)"
   ]
  },
  {
   "cell_type": "markdown",
   "metadata": {},
   "source": [
    "###### Ridge regression"
   ]
  },
  {
   "cell_type": "code",
   "execution_count": 25,
   "metadata": {},
   "outputs": [
    {
     "name": "stdout",
     "output_type": "stream",
     "text": [
      "Best parameters for 0 subset are: 1 0.01  with error:  0.7929677144488401\n",
      "Best parameters for 1 subset are: 2 0.01  with error:  0.8450561850194014\n",
      "Best parameters for 2 subset are: 2 0.01  with error:  0.8173424201564052\n",
      "Best parameters for 3 subset are: 2 0.01  with error:  0.8320016918872625\n",
      "[[0.93630976 0.93645421 0.93732362 0.94137645 0.95317962 0.97125258\n",
      "  0.98617216 0.99424679]\n",
      " [0.79296771 0.7959668  0.80461279 0.82188364 0.85171029 0.89660549\n",
      "  0.94290872 0.97407404]\n",
      " [2.63784812 2.50596282 2.11248506 1.4968839  0.92503176 0.94594117\n",
      "  1.17291633 1.16651706]] [[0.97364297 0.97370116 0.9740531  0.97569909 0.98052021 0.98797365\n",
      "  0.99418946 0.99757674]\n",
      " [0.88634788 0.88770695 0.89194932 0.90119727 0.91843812 0.94433812\n",
      "  0.96988659 0.98647535]\n",
      " [0.84505619 0.84631685 0.84932718 0.85628768 0.8726649  0.90067554\n",
      "  0.93105463 0.95601466]] [[0.99785752 0.99786204 0.99788998 0.9980218  0.99841024 0.99901492\n",
      "  0.99952264 0.9998006 ]\n",
      " [0.85156878 0.85317203 0.85792353 0.86728612 0.88394989 0.91290307\n",
      "  0.94846495 0.97555061]\n",
      " [0.81734242 0.81842084 0.82230268 0.83287073 0.85398572 0.88540182\n",
      "  0.92024966 0.95092966]] [[0.93321668 0.93336927 0.93428432 0.93854342 0.95093514 0.96988973\n",
      "  0.98552227 0.99397763]\n",
      " [0.86587244 0.86764829 0.87254226 0.88319215 0.90506429 0.93751498\n",
      "  0.96714593 0.98541129]\n",
      " [0.83200169 0.83433777 0.83868516 0.8473625  0.86204602 0.88072703\n",
      "  0.90335707 0.93007632]]\n"
     ]
    }
   ],
   "source": [
    "def cross_validation_demo():\n",
    "    seed = 1\n",
    "    k_fold = 4\n",
    "    lambdas = np.logspace(-2, 1, 8)\n",
    "    # split data in k fold\n",
    "    num_degrees=3\n",
    "    # define lists to store the loss of training data and test data\n",
    "    matrix_te0=np.zeros(shape=(num_degrees,len(lambdas)))\n",
    "    matrix_tr0=np.zeros(shape=(num_degrees,len(lambdas)))\n",
    "    matrix_te1=np.zeros(shape=(num_degrees,len(lambdas)))\n",
    "    matrix_tr1=np.zeros(shape=(num_degrees,len(lambdas)))\n",
    "    matrix_te2=np.zeros(shape=(num_degrees,len(lambdas)))\n",
    "    matrix_tr2=np.zeros(shape=(num_degrees,len(lambdas)))\n",
    "    matrix_te3=np.zeros(shape=(num_degrees,len(lambdas)))\n",
    "    matrix_tr3=np.zeros(shape=(num_degrees,len(lambdas)))\n",
    "    for degree in np.arange(num_degrees):\n",
    "        for ind_lmbd,lambda_ in enumerate(lambdas):\n",
    "            #losses_te=[]\n",
    "            #losses_tr=[]\n",
    "            for i in range(0,4):\n",
    "                k_indices,indices = build_k_indices(y[i], k_fold, seed)\n",
    "                loss_tr=0\n",
    "                loss_te=0\n",
    "                for k in range(k_fold):\n",
    "                    #print([degree,ind_lmbd,i,k])\n",
    "                    l_tr, l_te,_ = cross_validation_ridge(y[i], tXst[i], k_indices, k, lambda_, degree)\n",
    "                    loss_tr+=l_tr\n",
    "                    loss_te+=l_te\n",
    "                if i==0:\n",
    "                    matrix_te0[degree][ind_lmbd]=loss_te/k_fold\n",
    "                    matrix_tr0[degree][ind_lmbd]=loss_tr/k_fold\n",
    "                elif i==1:\n",
    "                    matrix_te1[degree][ind_lmbd]=loss_te/k_fold\n",
    "                    matrix_tr1[degree][ind_lmbd]=loss_tr/k_fold\n",
    "                elif i==2:\n",
    "                    matrix_te2[degree][ind_lmbd]=loss_te/k_fold\n",
    "                    matrix_tr2[degree][ind_lmbd]=loss_tr/k_fold\n",
    "                elif i==3:\n",
    "                    matrix_te3[degree][ind_lmbd]=loss_te/k_fold\n",
    "                    matrix_tr3[degree][ind_lmbd]=loss_tr/k_fold\n",
    "                #losses_te.append(np.mean(loss_te))\n",
    "                #losses_tr.append(np.mean(loss_tr))\n",
    "            #matrix_tr[degree][ind_lmbd]= losses_tr\n",
    "            #matrix_te[degree][ind_lmbd]=losses_te\n",
    "    \n",
    "   \n",
    "    \n",
    "    #get the best degree lambda couple  \n",
    "    result = np.where(matrix_te0 == np.amin(matrix_te0))\n",
    "    listOfCoordinates = list(zip(result[0], result[1]))\n",
    "    best_degree = listOfCoordinates[0][0]\n",
    "    best_lambda = listOfCoordinates[0][1]\n",
    "    print('Best parameters for 0 subset are:',best_degree,lambdas[best_lambda],' with error: ',matrix_te0[best_degree][best_lambda])\n",
    "    \n",
    "    result = np.where(matrix_te1 == np.amin(matrix_te1))\n",
    "    listOfCoordinates = list(zip(result[0], result[1]))\n",
    "    best_degree = listOfCoordinates[0][0]\n",
    "    best_lambda = listOfCoordinates[0][1]\n",
    "    print('Best parameters for 1 subset are:',best_degree,lambdas[best_lambda],' with error: ',matrix_te1[best_degree][best_lambda])\n",
    "    \n",
    "    result = np.where(matrix_te2 == np.amin(matrix_te2))\n",
    "    listOfCoordinates = list(zip(result[0], result[1]))\n",
    "    best_degree = listOfCoordinates[0][0]\n",
    "    best_lambda = listOfCoordinates[0][1]\n",
    "    print('Best parameters for 2 subset are:',best_degree,lambdas[best_lambda],' with error: ',matrix_te2[best_degree][best_lambda])\n",
    "    \n",
    "    result = np.where(matrix_te3 == np.amin(matrix_te3))\n",
    "    listOfCoordinates = list(zip(result[0], result[1]))\n",
    "    best_degree = listOfCoordinates[0][0]\n",
    "    best_lambda = listOfCoordinates[0][1]\n",
    "    print('Best parameters for 3 subset are:',best_degree,lambdas[best_lambda],' with error: ',matrix_te3[best_degree][best_lambda])\n",
    "    \n",
    "    print(matrix_te0,matrix_te1,matrix_te2,matrix_te3)\n",
    "    #show cross validation for each degree\n",
    "\n",
    "cross_validation_demo()"
   ]
  },
  {
   "cell_type": "markdown",
   "metadata": {},
   "source": [
    "###### Logistic regression"
   ]
  },
  {
   "cell_type": "code",
   "execution_count": 54,
   "metadata": {},
   "outputs": [],
   "source": [
    "def sigmoid(x):\n",
    "    t=np.copy(x)\n",
    "    t[t>0]=1/(1+np.exp(-t[t>0]))\n",
    "    t[t<0]=np.exp(t[t<0])/(1+np.exp(t[t<0]))\n",
    "    return t\n",
    "\n",
    "def calculate_loss(y, tx, w):\n",
    "    pred = sigmoid(tx.dot(w))\n",
    "    loss=((y+1)/2.0).T.dot(np.log(pred+1e-20)) + (1 - ((y+1)/2.0)).T.dot(np.log(1 - pred+1e-20))\n",
    "    return np.squeeze(loss)\n",
    "\n",
    "def calculate_gradient(y, tx, w):\n",
    "    pred = sigmoid(tx.dot(w))\n",
    "    grad = tx.T.dot(pred-(y+1)/2.0)\n",
    "    return grad\n",
    "\n",
    "def learning_by_gradient_descent(y, tx, w, gamma):\n",
    "    loss=calculate_loss(y,tx,w)\n",
    "    grad = calculate_gradient(y,tx,w)\n",
    "    w = w-gamma*grad\n",
    "    return loss, w"
   ]
  },
  {
   "cell_type": "code",
   "execution_count": 23,
   "metadata": {},
   "outputs": [],
   "source": [
    "def logistic_regression_gradient_descent_demo(y, x):\n",
    "    # init parameters\n",
    "    max_iter = 10000\n",
    "    threshold = 1e-6\n",
    "    gamma = 0.00001\n",
    "    all_losses=[]\n",
    "    weights=[]\n",
    "    \n",
    "    for i in range(0,4):\n",
    "        losses = []\n",
    "        \n",
    "        # build tx and ty\n",
    "        tx = np.c_[np.ones((y[i].shape[0], 1)), x[i]]\n",
    "        w = np.random.rand(tx.shape[1], 1)\n",
    "        ty=y[i].reshape(y[i].shape[0],1)\n",
    "\n",
    "        print('Training for subset {0}\\n'.format(i))\n",
    "        # start the logistic regression\n",
    "        for iter in range(max_iter):\n",
    "            \n",
    "            # get loss and update w\n",
    "            loss, w = learning_by_gradient_descent(ty, tx, w, gamma)\n",
    "            \n",
    "            # log info\n",
    "            if iter % 100 == 0:\n",
    "                print(\"Current iteration={i}, loss={l}\".format(i=iter, l=loss))\n",
    "            \n",
    "            #store loss\n",
    "            losses.append(loss)\n",
    "            \n",
    "            # converge criterion\n",
    "            if len(losses) > 1 and np.abs(losses[-1] - losses[-2]) < threshold:\n",
    "                break\n",
    "\n",
    "        print(\"\\nBest loss for subset {i}={l}\\n\".format(i=i,l=calculate_loss(ty, tx, w)))\n",
    "        all_losses.append(losses)\n",
    "        weights.append(w)\n",
    "    return all_losses,weights"
   ]
  },
  {
   "cell_type": "code",
   "execution_count": 194,
   "metadata": {},
   "outputs": [
    {
     "name": "stdout",
     "output_type": "stream",
     "text": [
      "Training for subset 0\n",
      "\n",
      "Current iteration=0, loss=-114597.1840925516\n",
      "Current iteration=100, loss=-33872.57395556392\n",
      "Current iteration=200, loss=-33476.195047984336\n",
      "Current iteration=300, loss=-33343.64827424953\n",
      "Current iteration=400, loss=-33292.071286279366\n",
      "Current iteration=500, loss=-33270.29552543046\n",
      "Current iteration=600, loss=-33260.62300141582\n",
      "Current iteration=700, loss=-33256.17733863803\n",
      "Current iteration=800, loss=-33254.08412781131\n",
      "Current iteration=900, loss=-33253.080985782806\n",
      "Current iteration=1000, loss=-33252.59381657056\n",
      "Current iteration=1100, loss=-33252.35480512532\n",
      "Current iteration=1200, loss=-33252.23661105214\n",
      "Current iteration=1300, loss=-33252.17779797679\n",
      "Current iteration=1400, loss=-33252.148388331676\n",
      "Current iteration=1500, loss=-33252.13362426477\n",
      "Current iteration=1600, loss=-33252.12618929323\n",
      "Current iteration=1700, loss=-33252.1224357776\n",
      "Current iteration=1800, loss=-33252.120537031544\n",
      "Current iteration=1900, loss=-33252.11957499187\n",
      "Current iteration=2000, loss=-33252.119086925726\n",
      "Current iteration=2100, loss=-33252.118839061666\n",
      "\n",
      "Best loss for subset 0=-33252.11872896005\n",
      "\n",
      "Training for subset 1\n",
      "\n",
      "Current iteration=0, loss=-86549.57663949048\n",
      "Current iteration=100, loss=-39767.2736850546\n",
      "Current iteration=200, loss=-39650.834773825285\n",
      "Current iteration=300, loss=-39632.22499579188\n",
      "Current iteration=400, loss=-39628.24286453081\n",
      "Current iteration=500, loss=-39627.31579193864\n",
      "Current iteration=600, loss=-39627.09401803938\n",
      "Current iteration=700, loss=-39627.04044703559\n",
      "Current iteration=800, loss=-39627.027457407516\n",
      "Current iteration=900, loss=-39627.024302759535\n",
      "Current iteration=1000, loss=-39627.02353609306\n",
      "\n",
      "Best loss for subset 1=-39627.02335880786\n",
      "\n",
      "Training for subset 2\n",
      "\n",
      "Current iteration=0, loss=-69218.73174763971\n",
      "Current iteration=100, loss=-25210.10004430102\n",
      "Current iteration=200, loss=-25031.478395015823\n",
      "Current iteration=300, loss=-24993.13892379336\n",
      "Current iteration=400, loss=-24982.775151858248\n",
      "Current iteration=500, loss=-24979.80721980621\n",
      "Current iteration=600, loss=-24978.935030679164\n",
      "Current iteration=700, loss=-24978.674932852897\n",
      "Current iteration=800, loss=-24978.596648320665\n",
      "Current iteration=900, loss=-24978.572938228626\n",
      "Current iteration=1000, loss=-24978.565724738226\n",
      "Current iteration=1100, loss=-24978.563522643883\n",
      "Current iteration=1200, loss=-24978.562848598453\n",
      "Current iteration=1300, loss=-24978.56264183006\n",
      "\n",
      "Best loss for subset 2=-24978.562632590652\n",
      "\n",
      "Training for subset 3\n",
      "\n",
      "Current iteration=0, loss=-30213.067943260336\n",
      "Current iteration=100, loss=-11503.409265784157\n",
      "Current iteration=200, loss=-11388.364702551626\n",
      "Current iteration=300, loss=-11342.460040887201\n",
      "Current iteration=400, loss=-11318.417638749263\n",
      "Current iteration=500, loss=-11305.083176014701\n",
      "Current iteration=600, loss=-11297.332792901612\n",
      "Current iteration=700, loss=-11292.627343201995\n",
      "Current iteration=800, loss=-11289.649810751365\n",
      "Current iteration=900, loss=-11287.69057088569\n",
      "Current iteration=1000, loss=-11286.354044211217\n",
      "Current iteration=1100, loss=-11285.412516705135\n",
      "Current iteration=1200, loss=-11284.730668098007\n",
      "Current iteration=1300, loss=-11284.225436361758\n",
      "Current iteration=1400, loss=-11283.844120431473\n",
      "Current iteration=1500, loss=-11283.552151553205\n",
      "Current iteration=1600, loss=-11283.326108419158\n",
      "Current iteration=1700, loss=-11283.149634603806\n",
      "Current iteration=1800, loss=-11283.010993393145\n",
      "Current iteration=1900, loss=-11282.901564248876\n",
      "Current iteration=2000, loss=-11282.814891819888\n",
      "Current iteration=2100, loss=-11282.746066377045\n",
      "Current iteration=2200, loss=-11282.691307897734\n",
      "Current iteration=2300, loss=-11282.647678630648\n",
      "Current iteration=2400, loss=-11282.612879028344\n",
      "Current iteration=2500, loss=-11282.58509936239\n",
      "Current iteration=2600, loss=-11282.562909605298\n",
      "Current iteration=2700, loss=-11282.545176326093\n",
      "Current iteration=2800, loss=-11282.530999122522\n",
      "Current iteration=2900, loss=-11282.519661480706\n",
      "Current iteration=3000, loss=-11282.510592476752\n",
      "Current iteration=3100, loss=-11282.503336741634\n",
      "Current iteration=3200, loss=-11282.497530794859\n",
      "Current iteration=3300, loss=-11282.49288432961\n",
      "Current iteration=3400, loss=-11282.48916537331\n",
      "Current iteration=3500, loss=-11282.48618849686\n",
      "Current iteration=3600, loss=-11282.483805431555\n",
      "Current iteration=3700, loss=-11282.481897593047\n",
      "Current iteration=3800, loss=-11282.480370119167\n",
      "Current iteration=3900, loss=-11282.479147111648\n",
      "Current iteration=4000, loss=-11282.478167836398\n",
      "Current iteration=4100, loss=-11282.47738368788\n",
      "Current iteration=4200, loss=-11282.476755763004\n",
      "Current iteration=4300, loss=-11282.476252921559\n",
      "Current iteration=4400, loss=-11282.475850235227\n",
      "Current iteration=4500, loss=-11282.475527747065\n",
      "Current iteration=4600, loss=-11282.475269479106\n",
      "Current iteration=4700, loss=-11282.475062638372\n",
      "Current iteration=4800, loss=-11282.474896981497\n",
      "Current iteration=4900, loss=-11282.47476430626\n",
      "\n",
      "Best loss for subset 3=-11282.47467944153\n",
      "\n"
     ]
    }
   ],
   "source": [
    "loss,w=logistic_regression_gradient_descent_demo(y,tXst)"
   ]
  },
  {
   "cell_type": "code",
   "execution_count": 197,
   "metadata": {},
   "outputs": [
    {
     "name": "stdout",
     "output_type": "stream",
     "text": [
      "Accuracy for subset 0 is 0.7878845372001626\n",
      "Accuracy for subset 1 is 0.6924494870109457\n",
      "Accuracy for subset 2 is 0.7306175807029751\n",
      "Accuracy for subset 3 is 0.7179871416831827\n"
     ]
    }
   ],
   "source": [
    "#Accuracy\n",
    "for i in range(4):\n",
    "    print('Accuracy for subset {i} is {acc}'.format(i=i,acc=np.sum(np.where(sigmoid(np.c_[np.ones((y[i].shape[0], 1)), tXst[i]]@w[i])>0.5,1,0)==((y[i].reshape(y[i].shape[0],1)+1)/2.0).astype('int'))/y[i].shape[0]))"
   ]
  },
  {
   "cell_type": "markdown",
   "metadata": {},
   "source": [
    "###### Penalized logistic regression"
   ]
  },
  {
   "cell_type": "code",
   "execution_count": 56,
   "metadata": {},
   "outputs": [],
   "source": [
    "def penalized_logistic_regression(y, tx, w, lambda_):\n",
    "    \"\"\"return the loss, gradient\"\"\"\n",
    "    \n",
    "    loss = calculate_loss(y, tx, w) + lambda_ * (w.T.dot(w))\n",
    "    gradient = calculate_gradient(y, tx, w) + 2 * lambda_ * w\n",
    "    return loss, gradient\n",
    "\n",
    "def learning_by_penalized_gradient(y, tx, w, gamma, lambda_):\n",
    "  \n",
    "    loss,gradient = penalized_logistic_regression(y,tx,w,lambda_)\n",
    "    w = w-gradient*gamma\n",
    "    return loss, w"
   ]
  },
  {
   "cell_type": "code",
   "execution_count": 71,
   "metadata": {},
   "outputs": [],
   "source": [
    "def logistic_regression_penalized_gradient_descent_demo(y, x):\n",
    "    # init parameters\n",
    "    max_iter = 10000\n",
    "    gamma = 0.00001\n",
    "    lambda_ = 0.1\n",
    "    threshold = 1e-8\n",
    "    all_losses=[]\n",
    "    weights=[]\n",
    "    \n",
    "    for i in range(0,4):\n",
    "        losses = []\n",
    "        \n",
    "        # build tx and ty\n",
    "        tx = np.c_[np.ones((y[i].shape[0], 1)), x[i]]\n",
    "        w = np.random.rand(tx.shape[1], 1)\n",
    "        ty=y[i].reshape(y[i].shape[0],1)\n",
    "        \n",
    "        print('Training for subset {0}\\n'.format(i))\n",
    "        # start the logistic regression\n",
    "        for iter in range(max_iter):\n",
    "            \n",
    "            # get loss and update w.\n",
    "            loss, w = learning_by_penalized_gradient(ty, tx, w, gamma, lambda_)\n",
    "            \n",
    "            # log info\n",
    "            if iter % 100 == 0:\n",
    "                print(\"Current iteration={i}, loss={l}\".format(i=iter, l=np.squeeze(loss)))\n",
    "            # converge criterion\n",
    "            losses.append(loss)\n",
    "            if len(losses) > 1 and np.abs(losses[-1] - losses[-2]) < threshold:\n",
    "                break\n",
    "    # visualization\n",
    "    #visualization(y, x, mean_x, std_x, w, \"classification_by_logistic_regression_penalized_gradient_descent\",True)\n",
    "    #print(\"loss={l}\".format(l=calculate_loss(y, tx, w)))\n",
    "        print(\"\\nBest loss for subset {i}={l}\\n\".format(i=i,l=calculate_loss(ty, tx, w)))\n",
    "        all_losses.append(losses)\n",
    "        weights.append(w)\n",
    "    return all_losses,weights"
   ]
  },
  {
   "cell_type": "code",
   "execution_count": 68,
   "metadata": {},
   "outputs": [
    {
     "name": "stdout",
     "output_type": "stream",
     "text": [
      "Training for subset 0\n",
      "\n",
      "Current iteration=0, loss=[[-118692.63740843]]\n",
      "Current iteration=100, loss=[[-33929.39805208]]\n",
      "Current iteration=200, loss=[[-33492.08202483]]\n",
      "Current iteration=300, loss=[[-33348.29032852]]\n",
      "Current iteration=400, loss=[[-33293.08509529]]\n",
      "Current iteration=500, loss=[[-33269.97014293]]\n",
      "Current iteration=600, loss=[[-33259.7502091]]\n",
      "Current iteration=700, loss=[[-33255.05998517]]\n",
      "Current iteration=800, loss=[[-33252.84781388]]\n",
      "Current iteration=900, loss=[[-33251.78190969]]\n",
      "Current iteration=1000, loss=[[-33251.25912803]]\n",
      "Current iteration=1100, loss=[[-33250.99866268]]\n",
      "Current iteration=1200, loss=[[-33250.86694308]]\n",
      "Current iteration=1300, loss=[[-33250.79932134]]\n",
      "Current iteration=1400, loss=[[-33250.76404525]]\n",
      "Current iteration=1500, loss=[[-33250.74531453]]\n",
      "Current iteration=1600, loss=[[-33250.73516964]]\n",
      "Current iteration=1700, loss=[[-33250.7295514]]\n",
      "Current iteration=1800, loss=[[-33250.72636285]]\n",
      "Current iteration=1900, loss=[[-33250.72450517]]\n",
      "Current iteration=2000, loss=[[-33250.72339326]]\n",
      "Current iteration=2100, loss=[[-33250.72270977]]\n",
      "Current iteration=2200, loss=[[-33250.72227892]]\n",
      "Current iteration=2300, loss=[[-33250.7220011]]\n",
      "Current iteration=2400, loss=[[-33250.72181838]]\n",
      "Current iteration=2500, loss=[[-33250.72169619]]\n",
      "Current iteration=2600, loss=[[-33250.72161336]]\n",
      "Current iteration=2700, loss=[[-33250.7215566]]\n",
      "Current iteration=2800, loss=[[-33250.72151738]]\n",
      "Current iteration=2900, loss=[[-33250.72149009]]\n",
      "Current iteration=3000, loss=[[-33250.721471]]\n",
      "Current iteration=3100, loss=[[-33250.7214576]]\n",
      "Current iteration=3200, loss=[[-33250.72144816]]\n",
      "Current iteration=3300, loss=[[-33250.7214415]]\n",
      "Current iteration=3400, loss=[[-33250.72143678]]\n",
      "Current iteration=3500, loss=[[-33250.72143344]]\n",
      "Current iteration=3600, loss=[[-33250.72143107]]\n",
      "Current iteration=3700, loss=[[-33250.72142939]]\n",
      "Current iteration=3800, loss=[[-33250.7214282]]\n",
      "\n",
      "Best loss for subset 0=-33252.119200145185\n",
      "\n",
      "Training for subset 1\n",
      "\n",
      "Current iteration=0, loss=[[-105511.48961518]]\n",
      "Current iteration=100, loss=[[-39855.97171067]]\n",
      "Current iteration=200, loss=[[-39670.19679544]]\n",
      "Current iteration=300, loss=[[-39636.44226907]]\n",
      "Current iteration=400, loss=[[-39628.97025658]]\n",
      "Current iteration=500, loss=[[-39627.20822237]]\n",
      "Current iteration=600, loss=[[-39626.78087583]]\n",
      "Current iteration=700, loss=[[-39626.67496705]]\n",
      "Current iteration=800, loss=[[-39626.64795535]]\n",
      "Current iteration=900, loss=[[-39626.64073439]]\n",
      "Current iteration=1000, loss=[[-39626.63865269]]\n",
      "Current iteration=1100, loss=[[-39626.63798531]]\n",
      "Current iteration=1200, loss=[[-39626.63774347]]\n",
      "Current iteration=1300, loss=[[-39626.63764544]]\n",
      "Current iteration=1400, loss=[[-39626.63760226]]\n",
      "Current iteration=1500, loss=[[-39626.63758222]]\n",
      "Current iteration=1600, loss=[[-39626.63757265]]\n",
      "Current iteration=1700, loss=[[-39626.637568]]\n",
      "Current iteration=1800, loss=[[-39626.63756573]]\n",
      "\n",
      "Best loss for subset 1=-39627.02336479403\n",
      "\n",
      "Training for subset 2\n",
      "\n",
      "Current iteration=0, loss=[[-70084.10399107]]\n",
      "Current iteration=100, loss=[[-25249.24231215]]\n",
      "Current iteration=200, loss=[[-25046.95232714]]\n",
      "Current iteration=300, loss=[[-24997.71970144]]\n",
      "Current iteration=400, loss=[[-24983.94147017]]\n",
      "Current iteration=500, loss=[[-24979.89796327]]\n",
      "Current iteration=600, loss=[[-24978.67718949]]\n",
      "Current iteration=700, loss=[[-24978.301062]]\n",
      "Current iteration=800, loss=[[-24978.18304024]]\n",
      "Current iteration=900, loss=[[-24978.14520034]]\n",
      "Current iteration=1000, loss=[[-24978.13269435]]\n",
      "Current iteration=1100, loss=[[-24978.12837289]]\n",
      "Current iteration=1200, loss=[[-24978.12678381]]\n",
      "Current iteration=1300, loss=[[-24978.12615218]]\n",
      "Current iteration=1400, loss=[[-24978.12587903]]\n",
      "Current iteration=1500, loss=[[-24978.12575135]]\n",
      "Current iteration=1600, loss=[[-24978.12568786]]\n",
      "Current iteration=1700, loss=[[-24978.12565488]]\n",
      "Current iteration=1800, loss=[[-24978.12563726]]\n",
      "Current iteration=1900, loss=[[-24978.12562768]]\n",
      "Current iteration=2000, loss=[[-24978.12562243]]\n",
      "Current iteration=2100, loss=[[-24978.12561952]]\n",
      "Current iteration=2200, loss=[[-24978.12561792]]\n",
      "\n",
      "Best loss for subset 2=-24978.562659013565\n",
      "\n",
      "Training for subset 3\n",
      "\n",
      "Current iteration=0, loss=[[-30515.67795241]]\n",
      "Current iteration=100, loss=[[-11599.30206897]]\n",
      "Current iteration=200, loss=[[-11429.55478516]]\n",
      "Current iteration=300, loss=[[-11373.76135486]]\n",
      "Current iteration=400, loss=[[-11344.63426971]]\n",
      "Current iteration=500, loss=[[-11326.88434996]]\n",
      "Current iteration=600, loss=[[-11315.19696423]]\n",
      "Current iteration=700, loss=[[-11307.10047653]]\n",
      "Current iteration=800, loss=[[-11301.27825409]]\n",
      "Current iteration=900, loss=[[-11296.97280468]]\n",
      "Current iteration=1000, loss=[[-11293.72234659]]\n",
      "Current iteration=1100, loss=[[-11291.23087008]]\n",
      "Current iteration=1200, loss=[[-11289.29999341]]\n",
      "Current iteration=1300, loss=[[-11287.79156357]]\n",
      "Current iteration=1400, loss=[[-11286.60626311]]\n",
      "Current iteration=1500, loss=[[-11285.67085952]]\n",
      "Current iteration=1600, loss=[[-11284.93028475]]\n",
      "Current iteration=1700, loss=[[-11284.34251079]]\n",
      "Current iteration=1800, loss=[[-11283.87510491]]\n",
      "Current iteration=1900, loss=[[-11283.50283272]]\n",
      "Current iteration=2000, loss=[[-11283.20594077]]\n",
      "Current iteration=2100, loss=[[-11282.96889562]]\n",
      "Current iteration=2200, loss=[[-11282.77944042]]\n",
      "Current iteration=2300, loss=[[-11282.62787829]]\n",
      "Current iteration=2400, loss=[[-11282.50652188]]\n",
      "Current iteration=2500, loss=[[-11282.40926691]]\n",
      "Current iteration=2600, loss=[[-11282.33125961]]\n",
      "Current iteration=2700, loss=[[-11282.26863624]]\n",
      "Current iteration=2800, loss=[[-11282.21831811]]\n",
      "Current iteration=2900, loss=[[-11282.17784995]]\n",
      "Current iteration=3000, loss=[[-11282.14527218]]\n",
      "Current iteration=3100, loss=[[-11282.11901968]]\n",
      "Current iteration=3200, loss=[[-11282.09784155]]\n",
      "Current iteration=3300, loss=[[-11282.08073739]]\n",
      "Current iteration=3400, loss=[[-11282.06690658]]\n",
      "Current iteration=3500, loss=[[-11282.05570805]]\n",
      "Current iteration=3600, loss=[[-11282.0466281]]\n",
      "Current iteration=3700, loss=[[-11282.03925487]]\n",
      "Current iteration=3800, loss=[[-11282.03325791]]\n",
      "Current iteration=3900, loss=[[-11282.02837193]]\n",
      "Current iteration=4000, loss=[[-11282.02438378]]\n",
      "Current iteration=4100, loss=[[-11282.02112208]]\n",
      "Current iteration=4200, loss=[[-11282.01844893]]\n",
      "Current iteration=4300, loss=[[-11282.01625329]]\n",
      "Current iteration=4400, loss=[[-11282.01444564]]\n",
      "Current iteration=4500, loss=[[-11282.01295374]]\n",
      "Current iteration=4600, loss=[[-11282.01171927]]\n",
      "Current iteration=4700, loss=[[-11282.01069506]]\n",
      "Current iteration=4800, loss=[[-11282.00984291]]\n",
      "Current iteration=4900, loss=[[-11282.00913188]]\n",
      "Current iteration=5000, loss=[[-11282.00853684]]\n",
      "Current iteration=5100, loss=[[-11282.00803736]]\n",
      "Current iteration=5200, loss=[[-11282.0076168]]\n",
      "Current iteration=5300, loss=[[-11282.00726159]]\n",
      "Current iteration=5400, loss=[[-11282.00696066]]\n",
      "Current iteration=5500, loss=[[-11282.0067049]]\n",
      "Current iteration=5600, loss=[[-11282.00648688]]\n",
      "Current iteration=5700, loss=[[-11282.00630046]]\n",
      "Current iteration=5800, loss=[[-11282.00614058]]\n",
      "Current iteration=5900, loss=[[-11282.00600308]]\n",
      "Current iteration=6000, loss=[[-11282.00588449]]\n",
      "Current iteration=6100, loss=[[-11282.00578193]]\n",
      "Current iteration=6200, loss=[[-11282.00569301]]\n",
      "Current iteration=6300, loss=[[-11282.00561573]]\n",
      "Current iteration=6400, loss=[[-11282.0055484]]\n",
      "Current iteration=6500, loss=[[-11282.00548962]]\n",
      "Current iteration=6600, loss=[[-11282.00543819]]\n",
      "Current iteration=6700, loss=[[-11282.00539311]]\n",
      "Current iteration=6800, loss=[[-11282.00535352]]\n",
      "Current iteration=6900, loss=[[-11282.00531869]]\n",
      "Current iteration=7000, loss=[[-11282.00528802]]\n",
      "Current iteration=7100, loss=[[-11282.00526095]]\n",
      "Current iteration=7200, loss=[[-11282.00523704]]\n",
      "Current iteration=7300, loss=[[-11282.00521589]]\n",
      "Current iteration=7400, loss=[[-11282.00519716]]\n",
      "Current iteration=7500, loss=[[-11282.00518057]]\n",
      "Current iteration=7600, loss=[[-11282.00516584]]\n",
      "Current iteration=7700, loss=[[-11282.00515277]]\n",
      "Current iteration=7800, loss=[[-11282.00514115]]\n",
      "Current iteration=7900, loss=[[-11282.00513082]]\n",
      "Current iteration=8000, loss=[[-11282.00512163]]\n",
      "Current iteration=8100, loss=[[-11282.00511345]]\n",
      "Current iteration=8200, loss=[[-11282.00510616]]\n",
      "Current iteration=8300, loss=[[-11282.00509966]]\n",
      "Current iteration=8400, loss=[[-11282.00509387]]\n",
      "Current iteration=8500, loss=[[-11282.00508871]]\n",
      "Current iteration=8600, loss=[[-11282.0050841]]\n",
      "Current iteration=8700, loss=[[-11282.00507999]]\n",
      "Current iteration=8800, loss=[[-11282.00507632]]\n",
      "Current iteration=8900, loss=[[-11282.00507305]]\n",
      "Current iteration=9000, loss=[[-11282.00507012]]\n",
      "Current iteration=9100, loss=[[-11282.00506751]]\n",
      "Current iteration=9200, loss=[[-11282.00506517]]\n",
      "Current iteration=9300, loss=[[-11282.00506309]]\n",
      "Current iteration=9400, loss=[[-11282.00506122]]\n",
      "Current iteration=9500, loss=[[-11282.00505956]]\n",
      "Current iteration=9600, loss=[[-11282.00505807]]\n",
      "Current iteration=9700, loss=[[-11282.00505673]]\n",
      "Current iteration=9800, loss=[[-11282.00505554]]\n",
      "Current iteration=9900, loss=[[-11282.00505448]]\n",
      "\n",
      "Best loss for subset 3=-11282.474615737123\n",
      "\n"
     ]
    }
   ],
   "source": [
    "loss,w=logistic_regression_penalized_gradient_descent_demo(y, tXst)"
   ]
  },
  {
   "cell_type": "code",
   "execution_count": 70,
   "metadata": {},
   "outputs": [
    {
     "name": "stdout",
     "output_type": "stream",
     "text": [
      "Accuracy for subset 0 is 0.7878980891719746\n",
      "Accuracy for subset 1 is 0.6924351976222457\n",
      "Accuracy for subset 2 is 0.7306386657389251\n",
      "Accuracy for subset 3 is 0.7180838207569972\n"
     ]
    }
   ],
   "source": [
    "#Accuracy\n",
    "w=loss[:]\n",
    "for i in range(4):\n",
    "    print('Accuracy for subset {i} is {acc}'.format(i=i,acc=np.sum(np.where(sigmoid(np.c_[np.ones((y[i].shape[0], 1)), tXst[i]]@w[i])>0.5,1,0)==((y[i].reshape(y[i].shape[0],1)+1)/2.0).astype('int'))/y[i].shape[0]))"
   ]
  },
  {
   "cell_type": "markdown",
   "metadata": {},
   "source": [
    "##### 1.2. Don't see the correlation between regressors"
   ]
  },
  {
   "cell_type": "code",
   "execution_count": null,
   "metadata": {},
   "outputs": [],
   "source": [
    "#Data standartization\n",
    "tX0_12=standartize(tX0cl)\n",
    "tX1_12=standartize(tX1cl)\n",
    "tX2_12=standartize(tX2cl)\n",
    "tX3_12=standartize(tX3cl)"
   ]
  },
  {
   "cell_type": "markdown",
   "metadata": {},
   "source": [
    "### Models creation (tX0_12..tX3_12 to y0d...y3d)"
   ]
  },
  {
   "cell_type": "markdown",
   "metadata": {},
   "source": [
    "#### 2.Substitute rows with NaNs in the first column by the mean value"
   ]
  },
  {
   "cell_type": "code",
   "execution_count": 277,
   "metadata": {},
   "outputs": [],
   "source": [
    "#Don't overwrite global variables\n",
    "tX0=np.copy(tX0cl)\n",
    "tX1=np.copy(tX1cl)\n",
    "tX2=np.copy(tX2cl)\n",
    "tX3=np.copy(tX3cl)"
   ]
  },
  {
   "cell_type": "code",
   "execution_count": 278,
   "metadata": {},
   "outputs": [],
   "source": [
    "#Calculate mean for 1st column without -999.0 values\n",
    "mean0=tX0[tX0[:,0]!=-999.0].mean(axis=0)[0]\n",
    "mean1=tX1[tX1[:,0]!=-999.0].mean(axis=0)[0]\n",
    "mean2=tX2[tX2[:,0]!=-999.0].mean(axis=0)[0]\n",
    "mean3=tX3[tX3[:,0]!=-999.0].mean(axis=0)[0]"
   ]
  },
  {
   "cell_type": "code",
   "execution_count": null,
   "metadata": {},
   "outputs": [],
   "source": [
    "tX0[tX0[:,0]!=-999.0].mean(axis=0)[0]"
   ]
  },
  {
   "cell_type": "code",
   "execution_count": 279,
   "metadata": {},
   "outputs": [],
   "source": [
    "tX0=np.copy(np.where(tX0==-999.0,mean0,tX0))\n",
    "tX1=np.copy(np.where(tX1==-999.0,mean1,tX1))\n",
    "tX2=np.copy(np.where(tX2==-999.0,mean2,tX2))\n",
    "tX3=np.copy(np.where(tX3==-999.0,mean3,tX3))"
   ]
  },
  {
   "cell_type": "markdown",
   "metadata": {},
   "source": [
    "##### 2.1. See the correlation between regressors"
   ]
  },
  {
   "cell_type": "markdown",
   "metadata": {},
   "source": [
    "Now let's see correlation between regressors"
   ]
  },
  {
   "cell_type": "code",
   "execution_count": 283,
   "metadata": {},
   "outputs": [
    {
     "name": "stdout",
     "output_type": "stream",
     "text": [
      "Pearson correlation between column 0 and 2 : 0.7488162009965309\n",
      "Pearson correlation between column 3 and 5 : 0.9999999999988465\n",
      "Pearson correlation between column 6 and 9 : 0.8002688533328596\n",
      "Pearson correlation between column 6 and 12 : 0.7797439568172713\n"
     ]
    }
   ],
   "source": [
    "#Correlation between regressors in tX0\n",
    "for i in range(len(tX0[0,:])):\n",
    "    for j in range(i+1,len(tX0[0,:])):\n",
    "        corr = np.corrcoef(tX0[:,i],tX0[:,j])\n",
    "        if np.abs(np.corrcoef(tX0[:,i],tX0[:,j])[0,1])> 0.7:\n",
    "            print(\"Pearson correlation between column {i} and {j} : {corr}\".format(i=i,j=j,corr=corr[0,1]))"
   ]
  },
  {
   "cell_type": "markdown",
   "metadata": {},
   "source": [
    "So it makes sense to drop columns 0,3,6"
   ]
  },
  {
   "cell_type": "code",
   "execution_count": 284,
   "metadata": {},
   "outputs": [],
   "source": [
    "#Dropping columns\n",
    "tX0=tX0[:,[i for i in range(tX0.shape[1]) if i not in [0,3,6]]]"
   ]
  },
  {
   "cell_type": "code",
   "execution_count": 285,
   "metadata": {},
   "outputs": [
    {
     "name": "stdout",
     "output_type": "stream",
     "text": [
      "Pearson correlation between column 0 and 2 : 0.8445009835185863\n",
      "Pearson correlation between column 3 and 6 : 0.8632110677076686\n",
      "Pearson correlation between column 3 and 17 : 0.7125818159025532\n",
      "Pearson correlation between column 3 and 18 : 0.9367590332144766\n",
      "Pearson correlation between column 3 and 21 : 0.9367590311733165\n",
      "Pearson correlation between column 6 and 17 : 0.757990128208487\n",
      "Pearson correlation between column 6 and 18 : 0.9051662981927852\n",
      "Pearson correlation between column 6 and 21 : 0.905166300382275\n",
      "Pearson correlation between column 7 and 12 : 0.709867998636906\n",
      "Pearson correlation between column 17 and 18 : 0.7068771933564622\n",
      "Pearson correlation between column 17 and 21 : 0.7068771905369512\n",
      "Pearson correlation between column 18 and 21 : 0.999999999999017\n"
     ]
    }
   ],
   "source": [
    "#Correlation between regressors in tX1\n",
    "for i in range(len(tX1[0,:])):\n",
    "    for j in range(i+1,len(tX1[0,:])):\n",
    "        corr = np.corrcoef(tX1[:,i],tX1[:,j])\n",
    "        if np.abs(np.corrcoef(tX1[:,i],tX1[:,j])[0,1])> 0.7:\n",
    "            print(\"Pearson correlation between column {i} and {j} : {corr}\".format(i=i,j=j,corr=corr[0,1]))"
   ]
  },
  {
   "cell_type": "markdown",
   "metadata": {},
   "source": [
    "Let's drop columns 0,3,6,21"
   ]
  },
  {
   "cell_type": "code",
   "execution_count": 286,
   "metadata": {},
   "outputs": [],
   "source": [
    "#Dropping columns\n",
    "tX1=tX1[:,[i for i in range(tX1.shape[1]) if i not in [0,3,6,21]]]"
   ]
  },
  {
   "cell_type": "code",
   "execution_count": 287,
   "metadata": {},
   "outputs": [
    {
     "name": "stdout",
     "output_type": "stream",
     "text": [
      "Pearson correlation between column 0 and 2 : 0.8228939521810881\n",
      "Pearson correlation between column 3 and 9 : 0.800559238241552\n",
      "Pearson correlation between column 3 and 19 : 0.7285433946032545\n",
      "Pearson correlation between column 3 and 21 : 0.7069249354905159\n",
      "Pearson correlation between column 3 and 22 : 0.7995787774292449\n",
      "Pearson correlation between column 3 and 28 : 0.7584645222360212\n",
      "Pearson correlation between column 4 and 5 : 0.8098715851425442\n",
      "Pearson correlation between column 4 and 6 : -0.8501315483608742\n",
      "Pearson correlation between column 5 and 6 : -0.7780946604694609\n",
      "Pearson correlation between column 9 and 21 : 0.8523147287795626\n",
      "Pearson correlation between column 9 and 22 : 0.9191164357409889\n",
      "Pearson correlation between column 9 and 28 : 0.9397870414625126\n",
      "Pearson correlation between column 10 and 16 : 0.7438565749365871\n",
      "Pearson correlation between column 21 and 22 : 0.7970772581576845\n",
      "Pearson correlation between column 21 and 28 : 0.8147451242277628\n",
      "Pearson correlation between column 22 and 28 : 0.9584459537718197\n",
      "Pearson correlation between column 25 and 28 : 0.720740253151538\n"
     ]
    }
   ],
   "source": [
    "#Correlation between regressors in tX2\n",
    "for i in range(len(tX2[0,:])):\n",
    "    for j in range(i+1,len(tX2[0,:])):\n",
    "        corr = np.corrcoef(tX2[:,i],tX2[:,j])\n",
    "        if np.abs(np.corrcoef(tX2[:,i],tX2[:,j])[0,1])> 0.7:\n",
    "            print(\"Pearson correlation between column {i} and {j} : {corr}\".format(i=i,j=j,corr=corr[0,1]))"
   ]
  },
  {
   "cell_type": "markdown",
   "metadata": {},
   "source": [
    "Drop columns 0,3,4,9,22"
   ]
  },
  {
   "cell_type": "code",
   "execution_count": 288,
   "metadata": {},
   "outputs": [],
   "source": [
    "#Dropping columns\n",
    "tX2=tX2[:,[i for i in range(tX2.shape[1]) if i not in [0,3,4,9,22]]]"
   ]
  },
  {
   "cell_type": "code",
   "execution_count": 289,
   "metadata": {},
   "outputs": [
    {
     "name": "stdout",
     "output_type": "stream",
     "text": [
      "Pearson correlation between column 0 and 2 : 0.8172288262177909\n",
      "Pearson correlation between column 3 and 19 : 0.7502599406025436\n",
      "Pearson correlation between column 4 and 5 : 0.758966330984028\n",
      "Pearson correlation between column 4 and 6 : -0.7735086978837818\n",
      "Pearson correlation between column 9 and 21 : 0.9160946827155181\n",
      "Pearson correlation between column 9 and 22 : 0.8813251894172176\n",
      "Pearson correlation between column 9 and 25 : 0.7708057103889608\n",
      "Pearson correlation between column 9 and 28 : 0.9569498612168339\n",
      "Pearson correlation between column 10 and 16 : 0.7683893227784884\n",
      "Pearson correlation between column 21 and 22 : 0.8132272408011297\n",
      "Pearson correlation between column 21 and 25 : 0.7219329222297065\n",
      "Pearson correlation between column 21 and 28 : 0.892063808128829\n",
      "Pearson correlation between column 22 and 28 : 0.887903038587193\n",
      "Pearson correlation between column 25 and 28 : 0.8365333266992916\n"
     ]
    }
   ],
   "source": [
    "#Correlation between regressors in tX3\n",
    "for i in range(len(tX3[0,:])):\n",
    "    for j in range(i+1,len(tX3[0,:])):\n",
    "        corr = np.corrcoef(tX3[:,i],tX3[:,j])\n",
    "        if np.abs(np.corrcoef(tX3[:,i],tX3[:,j])[0,1])> 0.7:\n",
    "            print(\"Pearson correlation between column {i} and {j} : {corr}\".format(i=i,j=j,corr=corr[0,1]))"
   ]
  },
  {
   "cell_type": "markdown",
   "metadata": {},
   "source": [
    "Drop columns 0,9,21,22"
   ]
  },
  {
   "cell_type": "code",
   "execution_count": 290,
   "metadata": {},
   "outputs": [],
   "source": [
    "#Dropping columns\n",
    "tX3=tX3[:,[i for i in range(tX3.shape[1]) if i not in [0,9,21,22]]]"
   ]
  },
  {
   "cell_type": "code",
   "execution_count": 82,
   "metadata": {},
   "outputs": [],
   "source": [
    "#TODO Check correlation between regressors and the result value"
   ]
  },
  {
   "cell_type": "code",
   "execution_count": 291,
   "metadata": {},
   "outputs": [],
   "source": [
    "#Data standartization\n",
    "tX0_21=standartize(tX0)\n",
    "tX1_21=standartize(tX1)\n",
    "tX2_21=standartize(tX2)\n",
    "tX3_21=standartize(tX3)"
   ]
  },
  {
   "cell_type": "markdown",
   "metadata": {},
   "source": [
    "### Models creation (tX0_21..tX3_21 to y0...y3)"
   ]
  },
  {
   "cell_type": "markdown",
   "metadata": {},
   "source": [
    "##### 2.2. Don't the correlation between regressors"
   ]
  },
  {
   "cell_type": "code",
   "execution_count": 293,
   "metadata": {},
   "outputs": [],
   "source": [
    "#Don't overwrite global variables\n",
    "tX0=np.copy(tX0cl)\n",
    "tX1=np.copy(tX1cl)\n",
    "tX2=np.copy(tX2cl)\n",
    "tX3=np.copy(tX3cl)\n",
    "\n",
    "#Replace NaNs with median\n",
    "tX0=np.copy(np.where(tX0==-999.0,mean0,tX0))\n",
    "tX1=np.copy(np.where(tX1==-999.0,mean1,tX1))\n",
    "tX2=np.copy(np.where(tX2==-999.0,mean2,tX2))\n",
    "tX3=np.copy(np.where(tX3==-999.0,mean3,tX3))\n",
    "\n",
    "#Data standartization\n",
    "tX0_22=standartize(tX0)\n",
    "tX1_22=standartize(tX1)\n",
    "tX2_22=standartize(tX2)\n",
    "tX3_22=standartize(tX3)"
   ]
  },
  {
   "cell_type": "markdown",
   "metadata": {},
   "source": [
    "### Models creation (tX0_22..tX3_22 to y0...y3)"
   ]
  },
  {
   "cell_type": "markdown",
   "metadata": {},
   "source": [
    "## Generate predictions and save ouput in csv format for submission:"
   ]
  },
  {
   "cell_type": "code",
   "execution_count": 10,
   "metadata": {
    "collapsed": false,
    "jupyter": {
     "outputs_hidden": false
    }
   },
   "outputs": [],
   "source": [
    "DATA_TEST_PATH = '' # TODO: download train data and supply path here \n",
    "_, tX_test, ids_test = load_csv_data(DATA_TEST_PATH)"
   ]
  },
  {
   "cell_type": "code",
   "execution_count": 31,
   "metadata": {
    "collapsed": false,
    "jupyter": {
     "outputs_hidden": false
    }
   },
   "outputs": [],
   "source": [
    "OUTPUT_PATH = '' # TODO: fill in desired name of output file for submission\n",
    "y_pred = predict_labels(weights, tX_test)\n",
    "create_csv_submission(ids_test, y_pred, OUTPUT_PATH)"
   ]
  },
  {
   "cell_type": "code",
   "execution_count": null,
   "metadata": {
    "collapsed": true,
    "jupyter": {
     "outputs_hidden": true
    }
   },
   "outputs": [],
   "source": []
  }
 ],
 "metadata": {
  "anaconda-cloud": {},
  "kernelspec": {
   "display_name": "Python [conda env:root]",
   "language": "python",
   "name": "conda-root-py"
  },
  "language_info": {
   "codemirror_mode": {
    "name": "ipython",
    "version": 3
   },
   "file_extension": ".py",
   "mimetype": "text/x-python",
   "name": "python",
   "nbconvert_exporter": "python",
   "pygments_lexer": "ipython3",
   "version": "3.8.8"
  }
 },
 "nbformat": 4,
 "nbformat_minor": 4
}
