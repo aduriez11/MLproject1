{
 "cells": [
  {
   "cell_type": "code",
   "execution_count": 52,
   "metadata": {
    "tags": []
   },
   "outputs": [],
   "source": [
    "# Useful starting lines\n",
    "%matplotlib inline\n",
    "import numpy as np\n",
    "import matplotlib.pyplot as plt\n",
    "%load_ext autoreload\n",
    "%autoreload 2"
   ]
  },
  {
   "cell_type": "markdown",
   "metadata": {},
   "source": [
    "## Load the training data into feature matrix, class labels, and event ids:"
   ]
  },
  {
   "cell_type": "code",
   "execution_count": 53,
   "metadata": {},
   "outputs": [],
   "source": [
    "from implementations import *"
   ]
  },
  {
   "cell_type": "code",
   "execution_count": 227,
   "metadata": {
    "collapsed": false,
    "jupyter": {
     "outputs_hidden": false
    }
   },
   "outputs": [],
   "source": [
    "from proj1_helpers import *\n",
    "DATA_TRAIN_PATH = 'data/train.csv' # TODO: download train data and supply path here \n",
    "y, tX, ids = load_csv_data(DATA_TRAIN_PATH)"
   ]
  },
  {
   "cell_type": "markdown",
   "metadata": {},
   "source": [
    "## Do your thing crazy machine learning thing here :) ..."
   ]
  },
  {
   "cell_type": "markdown",
   "metadata": {},
   "source": [
    "We have the only one column with integer values (it looks like clusters), so we divide the dataset by this value"
   ]
  },
  {
   "cell_type": "code",
   "execution_count": 55,
   "metadata": {},
   "outputs": [
    {
     "data": {
      "text/plain": [
       "array([0., 1., 2., 3.])"
      ]
     },
     "execution_count": 55,
     "metadata": {},
     "output_type": "execute_result"
    }
   ],
   "source": [
    "np.unique(tX[:,22])"
   ]
  },
  {
   "cell_type": "code",
   "execution_count": 256,
   "metadata": {},
   "outputs": [
    {
     "name": "stdout",
     "output_type": "stream",
     "text": [
      "Shapes of clusters are:  (99913, 30) (77544, 30) (50379, 30) (22164, 30)\n"
     ]
    }
   ],
   "source": [
    "tX0=np.copy(tX[tX[:,22]==0,:])\n",
    "ids0=np.copy(ids[tX[:,22]==0])\n",
    "y0 = np.copy(y[tX[:,22]==0])\n",
    "\n",
    "tX1=np.copy(tX[tX[:,22]==1,:])\n",
    "ids1=np.copy(ids[tX[:,22]==1])\n",
    "y1 = np.copy(y[tX[:,22]==1])\n",
    "\n",
    "tX2=np.copy(tX[tX[:,22]==2,:])\n",
    "ids2=np.copy(ids[tX[:,22]==2])\n",
    "y2 =  np.copy(y[tX[:,22]==2])\n",
    "\n",
    "tX3=np.copy(tX[tX[:,22]==3,:])\n",
    "ids3=np.copy(ids[tX[:,22]==3])\n",
    "y3 =  np.copy(y[tX[:,22]==3])\n",
    "\n",
    "print('Shapes of clusters are: ',tX0.shape,tX1.shape,tX2.shape,tX3.shape)"
   ]
  },
  {
   "cell_type": "code",
   "execution_count": 257,
   "metadata": {},
   "outputs": [],
   "source": [
    "#Deleting columns with clusters\n",
    "tX0=np.copy(np.delete(tX0,(22),axis=1))\n",
    "tX1=np.copy(np.delete(tX1,(22),axis=1))\n",
    "tX2=np.copy(np.delete(tX2,(22),axis=1))\n",
    "tX3=np.copy(np.delete(tX3,(22),axis=1))"
   ]
  },
  {
   "cell_type": "code",
   "execution_count": 258,
   "metadata": {},
   "outputs": [
    {
     "name": "stdout",
     "output_type": "stream",
     "text": [
      "Amount of NaNs in 0 cluster: \n",
      " [26123     0     0     0 99913 99913 99913     0     0     0     0     0\n",
      " 99913     0     0     0     0     0     0     0     0     0 99913 99913\n",
      " 99913 99913 99913 99913     0]\n",
      "Amount of NaNs in 1 cluster: \n",
      " [ 7562     0     0     0 77544 77544 77544     0     0     0     0     0\n",
      " 77544     0     0     0     0     0     0     0     0     0     0     0\n",
      "     0 77544 77544 77544     0]\n",
      "Amount of NaNs in 2 cluster: \n",
      " [2952    0    0    0    0    0    0    0    0    0    0    0    0    0\n",
      "    0    0    0    0    0    0    0    0    0    0    0    0    0    0\n",
      "    0]\n",
      "Amount of NaNs in 3 cluster: \n",
      " [1477    0    0    0    0    0    0    0    0    0    0    0    0    0\n",
      "    0    0    0    0    0    0    0    0    0    0    0    0    0    0\n",
      "    0]\n"
     ]
    }
   ],
   "source": [
    "#Counting NaNs in columns in each cluster\n",
    "print('Amount of NaNs in 0 cluster: \\n',np.count_nonzero(tX0==-999.0, axis = 0))\n",
    "print('Amount of NaNs in 1 cluster: \\n',np.count_nonzero(tX1==-999.0, axis = 0))\n",
    "print('Amount of NaNs in 2 cluster: \\n',np.count_nonzero(tX2==-999.0, axis = 0))\n",
    "print('Amount of NaNs in 3 cluster: \\n',np.count_nonzero(tX3==-999.0, axis = 0))"
   ]
  },
  {
   "cell_type": "markdown",
   "metadata": {},
   "source": [
    "We see that in clusters 0 and 1 some columns consist only of NaNs That's why we will delete these columns."
   ]
  },
  {
   "cell_type": "code",
   "execution_count": 261,
   "metadata": {},
   "outputs": [],
   "source": [
    "#Deleting columns where all values are NaNs\n",
    "tX0cl=np.copy(tX0[:,np.count_nonzero(tX0==-999.0, axis = 0)!=tX0.shape[0]])\n",
    "tX1cl=np.copy(tX1[:,np.count_nonzero(tX1==-999.0, axis = 0)!=tX1.shape[0]])\n",
    "tX2cl=np.copy(tX2[:,np.count_nonzero(tX2==-999.0, axis = 0)!=tX2.shape[0]])\n",
    "tX3cl=np.copy(tX3[:,np.count_nonzero(tX3==-999.0, axis = 0)!=tX3.shape[0]])"
   ]
  },
  {
   "cell_type": "markdown",
   "metadata": {},
   "source": [
    "Now we have cleaned all columns except the first one. We have different ways to work with it"
   ]
  },
  {
   "cell_type": "markdown",
   "metadata": {},
   "source": [
    "#### 1.Delete rows with NaNs in the first column"
   ]
  },
  {
   "cell_type": "code",
   "execution_count": 262,
   "metadata": {},
   "outputs": [],
   "source": [
    "#Don't overwrite global variables\n",
    "tX0=np.copy(tX0cl)\n",
    "tX1=np.copy(tX1cl)\n",
    "tX2=np.copy(tX2cl)\n",
    "tX3=np.copy(tX3cl)"
   ]
  },
  {
   "cell_type": "code",
   "execution_count": 263,
   "metadata": {},
   "outputs": [],
   "source": [
    "#Deleting rows with NaNs\n",
    "ids0d=np.copy(ids0[tX0[:,0]!=-999.0])\n",
    "y0d = np.copy(y0[tX0[:,0]!=-999.0])\n",
    "tX0=np.copy(tX0[tX0[:,0]!=-999.0,:])\n",
    "\n",
    "ids1d=np.copy(ids1[tX1[:,0]!=-999.0])\n",
    "y1d = np.copy(y1[tX1[:,0]!=-999.0])\n",
    "tX1=np.copy(tX1[tX1[:,0]!=-999.0,:])\n",
    "\n",
    "ids2d=np.copy(ids2[tX2[:,0]!=-999.0])\n",
    "y2d = np.copy(y2[tX2[:,0]!=-999.0])\n",
    "tX2=np.copy(tX2[tX2[:,0]!=-999.0,:])\n",
    "\n",
    "ids3d=np.copy(ids3[tX3[:,0]!=-999.0])\n",
    "y3d = np.copy(y3[tX3[:,0]!=-999.0])\n",
    "tX3=np.copy(tX3[tX3[:,0]!=-999.0,:])"
   ]
  },
  {
   "cell_type": "markdown",
   "metadata": {},
   "source": [
    "##### 1.1. See the correlation between regressors"
   ]
  },
  {
   "cell_type": "markdown",
   "metadata": {},
   "source": [
    "Now let's see correlation between regressors"
   ]
  },
  {
   "cell_type": "code",
   "execution_count": 264,
   "metadata": {},
   "outputs": [
    {
     "name": "stdout",
     "output_type": "stream",
     "text": [
      "Pearson correlation between column 0 and 2 : 0.9428649994377921\n",
      "Pearson correlation between column 1 and 7 : 0.7025329814432556\n",
      "Pearson correlation between column 3 and 5 : 0.9999999999991431\n",
      "Pearson correlation between column 6 and 9 : 0.7921536842510372\n",
      "Pearson correlation between column 6 and 12 : 0.7801737531532945\n"
     ]
    }
   ],
   "source": [
    "#Correlation between regressors in tX0\n",
    "for i in range(len(tX0[0,:])):\n",
    "    for j in range(i+1,len(tX0[0,:])):\n",
    "        corr = np.corrcoef(tX0[:,i],tX0[:,j])\n",
    "        if np.abs(np.corrcoef(tX0[:,i],tX0[:,j])[0,1])> 0.7:\n",
    "            print(\"Pearson correlation between column {i} and {j} : {corr}\".format(i=i,j=j,corr=corr[0,1]))"
   ]
  },
  {
   "cell_type": "markdown",
   "metadata": {},
   "source": [
    "So it makes sense to drop columns 0,3,6"
   ]
  },
  {
   "cell_type": "code",
   "execution_count": 265,
   "metadata": {},
   "outputs": [],
   "source": [
    "#Dropping columns\n",
    "tX0=tX0[:,[i for i in range(tX0.shape[1]) if i not in [0,3,6]]]"
   ]
  },
  {
   "cell_type": "code",
   "execution_count": 266,
   "metadata": {},
   "outputs": [
    {
     "name": "stdout",
     "output_type": "stream",
     "text": [
      "Pearson correlation between column 0 and 2 : 0.9203955805006697\n",
      "Pearson correlation between column 3 and 6 : 0.880515673723393\n",
      "Pearson correlation between column 3 and 15 : 0.7067535021056447\n",
      "Pearson correlation between column 3 and 17 : 0.719783491337637\n",
      "Pearson correlation between column 3 and 18 : 0.9473952774313399\n",
      "Pearson correlation between column 3 and 21 : 0.9473952764775125\n",
      "Pearson correlation between column 6 and 17 : 0.7682569234879949\n",
      "Pearson correlation between column 6 and 18 : 0.9128480282626462\n",
      "Pearson correlation between column 6 and 21 : 0.9128480302418414\n",
      "Pearson correlation between column 7 and 12 : 0.7106467382693462\n",
      "Pearson correlation between column 17 and 18 : 0.721078263561643\n",
      "Pearson correlation between column 17 and 21 : 0.7210782626271482\n",
      "Pearson correlation between column 18 and 21 : 0.9999999999990334\n"
     ]
    }
   ],
   "source": [
    "#Correlation between regressors in tX1\n",
    "for i in range(len(tX1[0,:])):\n",
    "    for j in range(i+1,len(tX1[0,:])):\n",
    "        corr = np.corrcoef(tX1[:,i],tX1[:,j])\n",
    "        if np.abs(np.corrcoef(tX1[:,i],tX1[:,j])[0,1])> 0.7:\n",
    "            print(\"Pearson correlation between column {i} and {j} : {corr}\".format(i=i,j=j,corr=corr[0,1]))"
   ]
  },
  {
   "cell_type": "markdown",
   "metadata": {},
   "source": [
    "Let's drop columns 0,3,6,21"
   ]
  },
  {
   "cell_type": "code",
   "execution_count": 268,
   "metadata": {},
   "outputs": [],
   "source": [
    "#Dropping columns\n",
    "tX1=tX1[:,[i for i in range(tX1.shape[1]) if i not in [0,3,6,21]]]"
   ]
  },
  {
   "cell_type": "code",
   "execution_count": 270,
   "metadata": {},
   "outputs": [
    {
     "name": "stdout",
     "output_type": "stream",
     "text": [
      "Pearson correlation between column 0 and 2 : 0.8882697562122746\n",
      "Pearson correlation between column 3 and 9 : 0.8100583553617612\n",
      "Pearson correlation between column 3 and 19 : 0.7727347641970795\n",
      "Pearson correlation between column 3 and 21 : 0.7106329242566304\n",
      "Pearson correlation between column 3 and 22 : 0.8064082142710389\n",
      "Pearson correlation between column 3 and 28 : 0.7651054026528024\n",
      "Pearson correlation between column 4 and 5 : 0.8102770843828327\n",
      "Pearson correlation between column 4 and 6 : -0.8533511261674986\n",
      "Pearson correlation between column 5 and 6 : -0.7806386730593765\n",
      "Pearson correlation between column 9 and 21 : 0.8630680375230015\n",
      "Pearson correlation between column 9 and 22 : 0.9212004546370948\n",
      "Pearson correlation between column 9 and 28 : 0.9417446400854351\n",
      "Pearson correlation between column 10 and 16 : 0.7427175522749608\n",
      "Pearson correlation between column 21 and 22 : 0.8087380200255875\n",
      "Pearson correlation between column 21 and 28 : 0.8269810542575168\n",
      "Pearson correlation between column 22 and 28 : 0.9584434603145308\n",
      "Pearson correlation between column 25 and 28 : 0.7179977621623423\n"
     ]
    }
   ],
   "source": [
    "#Correlation between regressors in tX2\n",
    "for i in range(len(tX2[0,:])):\n",
    "    for j in range(i+1,len(tX2[0,:])):\n",
    "        corr = np.corrcoef(tX2[:,i],tX2[:,j])\n",
    "        if np.abs(np.corrcoef(tX2[:,i],tX2[:,j])[0,1])> 0.7:\n",
    "            print(\"Pearson correlation between column {i} and {j} : {corr}\".format(i=i,j=j,corr=corr[0,1]))"
   ]
  },
  {
   "cell_type": "markdown",
   "metadata": {},
   "source": [
    "Drop columns 0,3,4,9,22,28"
   ]
  },
  {
   "cell_type": "code",
   "execution_count": 271,
   "metadata": {},
   "outputs": [],
   "source": [
    "#Dropping columns\n",
    "tX2=tX2[:,[i for i in range(tX2.shape[1]) if i not in [0,3,4,9,22,28]]]"
   ]
  },
  {
   "cell_type": "code",
   "execution_count": 272,
   "metadata": {},
   "outputs": [
    {
     "name": "stdout",
     "output_type": "stream",
     "text": [
      "Pearson correlation between column 0 and 2 : 0.8939715045042343\n",
      "Pearson correlation between column 3 and 19 : 0.7852631621337898\n",
      "Pearson correlation between column 4 and 5 : 0.758652958037284\n",
      "Pearson correlation between column 4 and 6 : -0.7768024192719148\n",
      "Pearson correlation between column 9 and 21 : 0.9209360084498386\n",
      "Pearson correlation between column 9 and 22 : 0.8823253774045843\n",
      "Pearson correlation between column 9 and 25 : 0.7709015614616341\n",
      "Pearson correlation between column 9 and 28 : 0.957878606826293\n",
      "Pearson correlation between column 10 and 16 : 0.7636779915431535\n",
      "Pearson correlation between column 21 and 22 : 0.817603943920867\n",
      "Pearson correlation between column 21 and 25 : 0.7259662973246287\n",
      "Pearson correlation between column 21 and 28 : 0.8968125698294412\n",
      "Pearson correlation between column 22 and 28 : 0.8874163028182186\n",
      "Pearson correlation between column 25 and 28 : 0.83669471775916\n"
     ]
    }
   ],
   "source": [
    "#Correlation between regressors in tX3\n",
    "for i in range(len(tX3[0,:])):\n",
    "    for j in range(i+1,len(tX3[0,:])):\n",
    "        corr = np.corrcoef(tX3[:,i],tX3[:,j])\n",
    "        if np.abs(np.corrcoef(tX3[:,i],tX3[:,j])[0,1])> 0.7:\n",
    "            print(\"Pearson correlation between column {i} and {j} : {corr}\".format(i=i,j=j,corr=corr[0,1]))"
   ]
  },
  {
   "cell_type": "markdown",
   "metadata": {},
   "source": [
    "Drop columns 0,9,21,22"
   ]
  },
  {
   "cell_type": "code",
   "execution_count": 273,
   "metadata": {},
   "outputs": [],
   "source": [
    "#Dropping columns\n",
    "tX3=tX3[:,[i for i in range(tX3.shape[1]) if i not in [0,9,21,22]]]"
   ]
  },
  {
   "cell_type": "code",
   "execution_count": 274,
   "metadata": {},
   "outputs": [],
   "source": [
    "#TODO Check correlation between regressors and the result value"
   ]
  },
  {
   "cell_type": "code",
   "execution_count": 275,
   "metadata": {},
   "outputs": [],
   "source": [
    "#Data standartization\n",
    "tX0_11=standartize(tX0)\n",
    "tX1_11=standartize(tX1)\n",
    "tX2_11=standartize(tX2)\n",
    "tX3_11=standartize(tX3)"
   ]
  },
  {
   "cell_type": "markdown",
   "metadata": {},
   "source": [
    "### Models creation (tX0_11..tX3_11 to y0d...y3d)"
   ]
  },
  {
   "cell_type": "markdown",
   "metadata": {},
   "source": [
    "##### 1.2. Don't see the correlation between regressors"
   ]
  },
  {
   "cell_type": "code",
   "execution_count": 276,
   "metadata": {},
   "outputs": [],
   "source": [
    "#Data standartization\n",
    "tX0_12=standartize(tX0cl)\n",
    "tX1_12=standartize(tX1cl)\n",
    "tX2_12=standartize(tX2cl)\n",
    "tX3_12=standartize(tX3cl)"
   ]
  },
  {
   "cell_type": "markdown",
   "metadata": {},
   "source": [
    "### Models creation (tX0_12..tX3_12 to y0d...y3d)"
   ]
  },
  {
   "cell_type": "markdown",
   "metadata": {},
   "source": [
    "#### 2.Substitute rows with NaNs in the first column by the mean value"
   ]
  },
  {
   "cell_type": "code",
   "execution_count": 277,
   "metadata": {},
   "outputs": [],
   "source": [
    "#Don't overwrite global variables\n",
    "tX0=np.copy(tX0cl)\n",
    "tX1=np.copy(tX1cl)\n",
    "tX2=np.copy(tX2cl)\n",
    "tX3=np.copy(tX3cl)"
   ]
  },
  {
   "cell_type": "code",
   "execution_count": 278,
   "metadata": {},
   "outputs": [],
   "source": [
    "#Calculate mean for 1st column without -999.0 values\n",
    "mean0=tX0[tX0[:,0]!=-999.0].mean(axis=0)[0]\n",
    "mean1=tX1[tX1[:,0]!=-999.0].mean(axis=0)[0]\n",
    "mean2=tX2[tX2[:,0]!=-999.0].mean(axis=0)[0]\n",
    "mean3=tX3[tX3[:,0]!=-999.0].mean(axis=0)[0]"
   ]
  },
  {
   "cell_type": "code",
   "execution_count": null,
   "metadata": {},
   "outputs": [],
   "source": [
    "tX0[tX0[:,0]!=-999.0].mean(axis=0)[0]"
   ]
  },
  {
   "cell_type": "code",
   "execution_count": 279,
   "metadata": {},
   "outputs": [],
   "source": [
    "tX0=np.copy(np.where(tX0==-999.0,mean0,tX0))\n",
    "tX1=np.copy(np.where(tX1==-999.0,mean1,tX1))\n",
    "tX2=np.copy(np.where(tX2==-999.0,mean2,tX2))\n",
    "tX3=np.copy(np.where(tX3==-999.0,mean3,tX3))"
   ]
  },
  {
   "cell_type": "markdown",
   "metadata": {},
   "source": [
    "##### 2.1. See the correlation between regressors"
   ]
  },
  {
   "cell_type": "markdown",
   "metadata": {},
   "source": [
    "Now let's see correlation between regressors"
   ]
  },
  {
   "cell_type": "code",
   "execution_count": 283,
   "metadata": {},
   "outputs": [
    {
     "name": "stdout",
     "output_type": "stream",
     "text": [
      "Pearson correlation between column 0 and 2 : 0.7488162009965309\n",
      "Pearson correlation between column 3 and 5 : 0.9999999999988465\n",
      "Pearson correlation between column 6 and 9 : 0.8002688533328596\n",
      "Pearson correlation between column 6 and 12 : 0.7797439568172713\n"
     ]
    }
   ],
   "source": [
    "#Correlation between regressors in tX0\n",
    "for i in range(len(tX0[0,:])):\n",
    "    for j in range(i+1,len(tX0[0,:])):\n",
    "        corr = np.corrcoef(tX0[:,i],tX0[:,j])\n",
    "        if np.abs(np.corrcoef(tX0[:,i],tX0[:,j])[0,1])> 0.7:\n",
    "            print(\"Pearson correlation between column {i} and {j} : {corr}\".format(i=i,j=j,corr=corr[0,1]))"
   ]
  },
  {
   "cell_type": "markdown",
   "metadata": {},
   "source": [
    "So it makes sense to drop columns 0,3,6"
   ]
  },
  {
   "cell_type": "code",
   "execution_count": 284,
   "metadata": {},
   "outputs": [],
   "source": [
    "#Dropping columns\n",
    "tX0=tX0[:,[i for i in range(tX0.shape[1]) if i not in [0,3,6]]]"
   ]
  },
  {
   "cell_type": "code",
   "execution_count": 285,
   "metadata": {},
   "outputs": [
    {
     "name": "stdout",
     "output_type": "stream",
     "text": [
      "Pearson correlation between column 0 and 2 : 0.8445009835185863\n",
      "Pearson correlation between column 3 and 6 : 0.8632110677076686\n",
      "Pearson correlation between column 3 and 17 : 0.7125818159025532\n",
      "Pearson correlation between column 3 and 18 : 0.9367590332144766\n",
      "Pearson correlation between column 3 and 21 : 0.9367590311733165\n",
      "Pearson correlation between column 6 and 17 : 0.757990128208487\n",
      "Pearson correlation between column 6 and 18 : 0.9051662981927852\n",
      "Pearson correlation between column 6 and 21 : 0.905166300382275\n",
      "Pearson correlation between column 7 and 12 : 0.709867998636906\n",
      "Pearson correlation between column 17 and 18 : 0.7068771933564622\n",
      "Pearson correlation between column 17 and 21 : 0.7068771905369512\n",
      "Pearson correlation between column 18 and 21 : 0.999999999999017\n"
     ]
    }
   ],
   "source": [
    "#Correlation between regressors in tX1\n",
    "for i in range(len(tX1[0,:])):\n",
    "    for j in range(i+1,len(tX1[0,:])):\n",
    "        corr = np.corrcoef(tX1[:,i],tX1[:,j])\n",
    "        if np.abs(np.corrcoef(tX1[:,i],tX1[:,j])[0,1])> 0.7:\n",
    "            print(\"Pearson correlation between column {i} and {j} : {corr}\".format(i=i,j=j,corr=corr[0,1]))"
   ]
  },
  {
   "cell_type": "markdown",
   "metadata": {},
   "source": [
    "Let's drop columns 0,3,6,21"
   ]
  },
  {
   "cell_type": "code",
   "execution_count": 286,
   "metadata": {},
   "outputs": [],
   "source": [
    "#Dropping columns\n",
    "tX1=tX1[:,[i for i in range(tX1.shape[1]) if i not in [0,3,6,21]]]"
   ]
  },
  {
   "cell_type": "code",
   "execution_count": 287,
   "metadata": {},
   "outputs": [
    {
     "name": "stdout",
     "output_type": "stream",
     "text": [
      "Pearson correlation between column 0 and 2 : 0.8228939521810881\n",
      "Pearson correlation between column 3 and 9 : 0.800559238241552\n",
      "Pearson correlation between column 3 and 19 : 0.7285433946032545\n",
      "Pearson correlation between column 3 and 21 : 0.7069249354905159\n",
      "Pearson correlation between column 3 and 22 : 0.7995787774292449\n",
      "Pearson correlation between column 3 and 28 : 0.7584645222360212\n",
      "Pearson correlation between column 4 and 5 : 0.8098715851425442\n",
      "Pearson correlation between column 4 and 6 : -0.8501315483608742\n",
      "Pearson correlation between column 5 and 6 : -0.7780946604694609\n",
      "Pearson correlation between column 9 and 21 : 0.8523147287795626\n",
      "Pearson correlation between column 9 and 22 : 0.9191164357409889\n",
      "Pearson correlation between column 9 and 28 : 0.9397870414625126\n",
      "Pearson correlation between column 10 and 16 : 0.7438565749365871\n",
      "Pearson correlation between column 21 and 22 : 0.7970772581576845\n",
      "Pearson correlation between column 21 and 28 : 0.8147451242277628\n",
      "Pearson correlation between column 22 and 28 : 0.9584459537718197\n",
      "Pearson correlation between column 25 and 28 : 0.720740253151538\n"
     ]
    }
   ],
   "source": [
    "#Correlation between regressors in tX2\n",
    "for i in range(len(tX2[0,:])):\n",
    "    for j in range(i+1,len(tX2[0,:])):\n",
    "        corr = np.corrcoef(tX2[:,i],tX2[:,j])\n",
    "        if np.abs(np.corrcoef(tX2[:,i],tX2[:,j])[0,1])> 0.7:\n",
    "            print(\"Pearson correlation between column {i} and {j} : {corr}\".format(i=i,j=j,corr=corr[0,1]))"
   ]
  },
  {
   "cell_type": "markdown",
   "metadata": {},
   "source": [
    "Drop columns 0,3,4,9,22"
   ]
  },
  {
   "cell_type": "code",
   "execution_count": 288,
   "metadata": {},
   "outputs": [],
   "source": [
    "#Dropping columns\n",
    "tX2=tX2[:,[i for i in range(tX2.shape[1]) if i not in [0,3,4,9,22]]]"
   ]
  },
  {
   "cell_type": "code",
   "execution_count": 289,
   "metadata": {},
   "outputs": [
    {
     "name": "stdout",
     "output_type": "stream",
     "text": [
      "Pearson correlation between column 0 and 2 : 0.8172288262177909\n",
      "Pearson correlation between column 3 and 19 : 0.7502599406025436\n",
      "Pearson correlation between column 4 and 5 : 0.758966330984028\n",
      "Pearson correlation between column 4 and 6 : -0.7735086978837818\n",
      "Pearson correlation between column 9 and 21 : 0.9160946827155181\n",
      "Pearson correlation between column 9 and 22 : 0.8813251894172176\n",
      "Pearson correlation between column 9 and 25 : 0.7708057103889608\n",
      "Pearson correlation between column 9 and 28 : 0.9569498612168339\n",
      "Pearson correlation between column 10 and 16 : 0.7683893227784884\n",
      "Pearson correlation between column 21 and 22 : 0.8132272408011297\n",
      "Pearson correlation between column 21 and 25 : 0.7219329222297065\n",
      "Pearson correlation between column 21 and 28 : 0.892063808128829\n",
      "Pearson correlation between column 22 and 28 : 0.887903038587193\n",
      "Pearson correlation between column 25 and 28 : 0.8365333266992916\n"
     ]
    }
   ],
   "source": [
    "#Correlation between regressors in tX3\n",
    "for i in range(len(tX3[0,:])):\n",
    "    for j in range(i+1,len(tX3[0,:])):\n",
    "        corr = np.corrcoef(tX3[:,i],tX3[:,j])\n",
    "        if np.abs(np.corrcoef(tX3[:,i],tX3[:,j])[0,1])> 0.7:\n",
    "            print(\"Pearson correlation between column {i} and {j} : {corr}\".format(i=i,j=j,corr=corr[0,1]))"
   ]
  },
  {
   "cell_type": "markdown",
   "metadata": {},
   "source": [
    "Drop columns 0,9,21,22"
   ]
  },
  {
   "cell_type": "code",
   "execution_count": 290,
   "metadata": {},
   "outputs": [],
   "source": [
    "#Dropping columns\n",
    "tX3=tX3[:,[i for i in range(tX3.shape[1]) if i not in [0,9,21,22]]]"
   ]
  },
  {
   "cell_type": "code",
   "execution_count": 82,
   "metadata": {},
   "outputs": [],
   "source": [
    "#TODO Check correlation between regressors and the result value"
   ]
  },
  {
   "cell_type": "code",
   "execution_count": 291,
   "metadata": {},
   "outputs": [],
   "source": [
    "#Data standartization\n",
    "tX0_21=standartize(tX0)\n",
    "tX1_21=standartize(tX1)\n",
    "tX2_21=standartize(tX2)\n",
    "tX3_21=standartize(tX3)"
   ]
  },
  {
   "cell_type": "markdown",
   "metadata": {},
   "source": [
    "### Models creation (tX0_21..tX3_21 to y0...y3)"
   ]
  },
  {
   "cell_type": "markdown",
   "metadata": {},
   "source": [
    "##### 2.2. Don't the correlation between regressors"
   ]
  },
  {
   "cell_type": "code",
   "execution_count": 293,
   "metadata": {},
   "outputs": [],
   "source": [
    "#Don't overwrite global variables\n",
    "tX0=np.copy(tX0cl)\n",
    "tX1=np.copy(tX1cl)\n",
    "tX2=np.copy(tX2cl)\n",
    "tX3=np.copy(tX3cl)\n",
    "\n",
    "#Replace NaNs with median\n",
    "tX0=np.copy(np.where(tX0==-999.0,mean0,tX0))\n",
    "tX1=np.copy(np.where(tX1==-999.0,mean1,tX1))\n",
    "tX2=np.copy(np.where(tX2==-999.0,mean2,tX2))\n",
    "tX3=np.copy(np.where(tX3==-999.0,mean3,tX3))\n",
    "\n",
    "#Data standartization\n",
    "tX0_22=standartize(tX0)\n",
    "tX1_22=standartize(tX1)\n",
    "tX2_22=standartize(tX2)\n",
    "tX3_22=standartize(tX3)"
   ]
  },
  {
   "cell_type": "markdown",
   "metadata": {},
   "source": [
    "### Models creation (tX0_22..tX3_22 to y0...y3)"
   ]
  },
  {
   "cell_type": "markdown",
   "metadata": {},
   "source": [
    "## Generate predictions and save ouput in csv format for submission:"
   ]
  },
  {
   "cell_type": "code",
   "execution_count": 10,
   "metadata": {
    "collapsed": false,
    "jupyter": {
     "outputs_hidden": false
    }
   },
   "outputs": [],
   "source": [
    "DATA_TEST_PATH = '' # TODO: download train data and supply path here \n",
    "_, tX_test, ids_test = load_csv_data(DATA_TEST_PATH)"
   ]
  },
  {
   "cell_type": "code",
   "execution_count": 31,
   "metadata": {
    "collapsed": false,
    "jupyter": {
     "outputs_hidden": false
    }
   },
   "outputs": [],
   "source": [
    "OUTPUT_PATH = '' # TODO: fill in desired name of output file for submission\n",
    "y_pred = predict_labels(weights, tX_test)\n",
    "create_csv_submission(ids_test, y_pred, OUTPUT_PATH)"
   ]
  },
  {
   "cell_type": "code",
   "execution_count": null,
   "metadata": {
    "collapsed": true,
    "jupyter": {
     "outputs_hidden": true
    }
   },
   "outputs": [],
   "source": []
  }
 ],
 "metadata": {
  "anaconda-cloud": {},
  "kernelspec": {
   "display_name": "Python [conda env:root]",
   "language": "python",
   "name": "conda-root-py"
  },
  "language_info": {
   "codemirror_mode": {
    "name": "ipython",
    "version": 3
   },
   "file_extension": ".py",
   "mimetype": "text/x-python",
   "name": "python",
   "nbconvert_exporter": "python",
   "pygments_lexer": "ipython3",
   "version": "3.8.8"
  }
 },
 "nbformat": 4,
 "nbformat_minor": 4
}
