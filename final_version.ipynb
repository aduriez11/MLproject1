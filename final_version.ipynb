{
 "cells": [
  {
   "cell_type": "code",
   "execution_count": 1,
   "id": "b9ca7284-72be-4259-a135-746713678dfd",
   "metadata": {
    "tags": []
   },
   "outputs": [],
   "source": [
    "# Useful starting lines\n",
    "%matplotlib inline\n",
    "import numpy as np\n",
    "import matplotlib.pyplot as plt\n",
    "%load_ext autoreload\n",
    "%autoreload 2"
   ]
  },
  {
   "cell_type": "markdown",
   "id": "47eabd58-c434-4ec0-94a4-3682893cd13f",
   "metadata": {},
   "source": [
    "## Load the training data into feature matrix, class labels, and event ids:"
   ]
  },
  {
   "cell_type": "code",
   "execution_count": 2,
   "id": "dbf8613a-b4ea-4515-bcfa-e7584baee2c9",
   "metadata": {
    "collapsed": false,
    "jupyter": {
     "outputs_hidden": false
    }
   },
   "outputs": [],
   "source": [
    "from proj1_helpers import *\n",
    "DATA_TRAIN_PATH = 'data/train.csv'\n",
    "y, tX, ids = load_csv_data(DATA_TRAIN_PATH)"
   ]
  },
  {
   "cell_type": "code",
   "execution_count": 3,
   "id": "f724b695-ff89-4564-9ff2-c7a281aff938",
   "metadata": {},
   "outputs": [],
   "source": [
    "from preprocessing import *\n",
    "from linear_regression import *\n",
    "from polynomial_regression import *\n",
    "from gradient_descent import *\n",
    "from stochastic_gradient_descent import *\n",
    "from ridge_regression import *\n",
    "from logistic_regression import *\n",
    "from penalized_logistic_regression import *"
   ]
  },
  {
   "cell_type": "markdown",
   "id": "e07fae1f-ddbd-4ae2-ba01-1c0ad445fe89",
   "metadata": {},
   "source": [
    "## Do your thing crazy machine learning thing here :) ..."
   ]
  },
  {
   "cell_type": "markdown",
   "id": "54a0fde1-35f3-4e65-a616-383074cb9448",
   "metadata": {},
   "source": [
    "##### General preprocessing"
   ]
  },
  {
   "cell_type": "code",
   "execution_count": 4,
   "id": "7c05cfd9-2cdf-4255-a2ca-4edbeb933a09",
   "metadata": {},
   "outputs": [],
   "source": [
    "ty,tXcl,ids=general_cleaning (y, tX, ids)"
   ]
  },
  {
   "cell_type": "markdown",
   "id": "c8a715e9-a75a-4718-b5f0-e6ce5649ee8a",
   "metadata": {},
   "source": [
    "##### 1.Delete rows with NaNs in the first column"
   ]
  },
  {
   "cell_type": "code",
   "execution_count": 6,
   "id": "24e2c0ad-e531-4595-9392-0991b8729f8e",
   "metadata": {},
   "outputs": [],
   "source": [
    "y1,tXcl1,ids1=first_column_nan_deleting(ty,tXcl,ids)"
   ]
  },
  {
   "cell_type": "markdown",
   "id": "9f3ff220-771f-458c-b1f9-d7a6f63a7bc0",
   "metadata": {},
   "source": [
    "1.1. Drop correlated columns"
   ]
  },
  {
   "cell_type": "code",
   "execution_count": 8,
   "id": "9f3252d0-0557-4e76-8469-cc5126706159",
   "metadata": {},
   "outputs": [],
   "source": [
    "tX_11=drop_correlated_columns_nan_deleted(tXcl1)"
   ]
  },
  {
   "cell_type": "markdown",
   "id": "20290e21-24a9-430e-92df-dcdd62013c85",
   "metadata": {},
   "source": [
    "Standartization"
   ]
  },
  {
   "cell_type": "code",
   "execution_count": 10,
   "id": "23987118-57c2-406f-94fe-083c45c4ada1",
   "metadata": {},
   "outputs": [],
   "source": [
    "tX_11=standartization(tX_11)"
   ]
  },
  {
   "cell_type": "markdown",
   "id": "0801cc30-9197-4cbb-b7d0-7d2af97f43be",
   "metadata": {},
   "source": [
    "##### Build models"
   ]
  },
  {
   "cell_type": "markdown",
   "id": "77d6ab30-8e99-4a70-8358-7528b4b16760",
   "metadata": {},
   "source": [
    "###### Linear regression"
   ]
  },
  {
   "cell_type": "code",
   "execution_count": 12,
   "id": "fe427278-5cd5-47ac-94b9-d4aa5fef8903",
   "metadata": {},
   "outputs": [
    {
     "data": {
      "text/plain": [
       "[0.8655253268669649,\n",
       " 0.9146404549646151,\n",
       " 0.8531872782441865,\n",
       " 0.9358064809053154]"
      ]
     },
     "execution_count": 12,
     "metadata": {},
     "output_type": "execute_result"
    }
   ],
   "source": [
    "w_list,loss_list=LinearRegressionSubmission(y1,tX_11)\n",
    "loss_list"
   ]
  },
  {
   "cell_type": "markdown",
   "id": "4e6c8091-bb0e-478c-9af0-8aefca877c41",
   "metadata": {},
   "source": [
    "###### Polynomial regression"
   ]
  },
  {
   "cell_type": "code",
   "execution_count": 135,
   "id": "3ba66462-8e2a-4fe0-af66-73f1f401d920",
   "metadata": {},
   "outputs": [
    {
     "name": "stdout",
     "output_type": "stream",
     "text": [
      "Best degree for subset 0: 1, test error: 0.7919284693081986\n",
      "Best degree for subset 1: 3, test error: 0.8421616433385937\n",
      "Best degree for subset 2: 3, test error: 0.8036165091579167\n",
      "Best degree for subset 3: 4, test error: 0.8198653741363071\n"
     ]
    }
   ],
   "source": [
    "deg,min=PolynomialRegressionSubmission(y1,tX_11,degrees=[i for i in range(12)],k_fold=4,seed=1)"
   ]
  },
  {
   "cell_type": "markdown",
   "id": "454019f3-72e2-4830-a661-42f8ee8c386d",
   "metadata": {},
   "source": [
    "###### Ridge regression"
   ]
  },
  {
   "cell_type": "code",
   "execution_count": 274,
   "id": "967dc91b-373f-4558-8da4-1cd5e2234a50",
   "metadata": {},
   "outputs": [
    {
     "name": "stdout",
     "output_type": "stream",
     "text": [
      "Best parameters for 0 subset are: 1 0.01  with error:  0.7929677144488401\n",
      "Best parameters for 1 subset are: 3 0.01  with error:  0.842628569172011\n",
      "Best parameters for 2 subset are: 4 0.07196856730011521  with error:  0.8013593228595915\n",
      "Best parameters for 3 subset are: 4 0.01  with error:  0.8170814522760204\n"
     ]
    }
   ],
   "source": [
    "gammas,lambdas,losses=RidgeRegressionSubmission(y1,tX_11,num_degrees=5,k_fold=4,seed=1,lambdas=np.logspace(-2,1,15))"
   ]
  },
  {
   "cell_type": "markdown",
   "id": "905dac75-f3af-4120-8c18-a9b9a411ea40",
   "metadata": {},
   "source": [
    "###### Gradient descent"
   ]
  },
  {
   "cell_type": "code",
   "execution_count": 168,
   "id": "8f13a749-0abe-4600-a35a-df63a25be324",
   "metadata": {},
   "outputs": [
    {
     "data": {
      "text/plain": [
       "[0.8655253268669649,\n",
       " 0.9146404549646151,\n",
       " 0.8531872782441867,\n",
       " 0.9358064809053154]"
      ]
     },
     "execution_count": 168,
     "metadata": {},
     "output_type": "execute_result"
    }
   ],
   "source": [
    "w_list, loss_list=GradientDescentSubmission(y1,tX_11, max_iters=1000, gamma=0.5)\n",
    "loss_list"
   ]
  },
  {
   "cell_type": "markdown",
   "id": "463372e6-148e-4405-b7f6-aef6352710a3",
   "metadata": {},
   "source": [
    "###### Stochastic gradient descent"
   ]
  },
  {
   "cell_type": "code",
   "execution_count": 169,
   "id": "40eb7d9d-443c-4b8d-8c83-94f96073a345",
   "metadata": {},
   "outputs": [
    {
     "data": {
      "text/plain": [
       "[0.8971604482441596,\n",
       " 0.9327958390494234,\n",
       " 0.8776615026658197,\n",
       " 0.9569188200422423]"
      ]
     },
     "execution_count": 169,
     "metadata": {},
     "output_type": "execute_result"
    }
   ],
   "source": [
    "w_list, loss_list=StochasticGradientDescentSubmission(y1, tX_11,max_iters=1000,gamma=0.001,batch_size=1)\n",
    "loss_list"
   ]
  },
  {
   "cell_type": "markdown",
   "id": "bf8ebee5-6e07-4f73-ab4d-582fb173bac1",
   "metadata": {},
   "source": [
    "###### Logistic regression"
   ]
  },
  {
   "cell_type": "code",
   "execution_count": 9,
   "id": "23253c29-e33d-4453-a7c7-160b9b17a369",
   "metadata": {},
   "outputs": [
    {
     "name": "stdout",
     "output_type": "stream",
     "text": [
      "Best loss for subset 0=-33252.11872884919\n",
      "Best loss for subset 1=-39627.02335862964\n",
      "Best loss for subset 2=-24978.562633395588\n",
      "Best loss for subset 3=-11282.474679175222\n"
     ]
    }
   ],
   "source": [
    "w_list, loss_list=LogisticRegressionSubmission(y1, tX_11, max_iter=10000,threshold=1e-6,gamma=0.00001)"
   ]
  },
  {
   "cell_type": "markdown",
   "id": "55edd35d-69dc-463f-b262-11c78a0a04c9",
   "metadata": {},
   "source": [
    "###### Logistic penalized regression"
   ]
  },
  {
   "cell_type": "code",
   "execution_count": 35,
   "id": "c915248d-16c3-482e-b457-01ece47733e9",
   "metadata": {},
   "outputs": [
    {
     "name": "stdout",
     "output_type": "stream",
     "text": [
      "Best parameters for 0 subset are: 1e-05 0.001  with error:  -33290.784163721226\n",
      "Best parameters for 1 subset are: 1e-05 0.5  with error:  -39649.15420012266\n",
      "Best parameters for 2 subset are: 1e-05 0.5  with error:  -25005.05997738056\n",
      "Best parameters for 3 subset are: 1e-05 0.001  with error:  -11312.821051492407\n"
     ]
    },
    {
     "data": {
      "text/plain": [
       "[-33290.784163721226,\n",
       " -39649.15420012266,\n",
       " -25005.05997738056,\n",
       " -11312.821051492407]"
      ]
     },
     "execution_count": 35,
     "metadata": {},
     "output_type": "execute_result"
    }
   ],
   "source": [
    "res_gammas,res_lambdas,res_losses=PenalizedLogisticRegressionValidation(y1, tX_11, max_iters=2000,threshold=1e-6,k_fold = 4,seed=1,gammas = [0.00001,0.000001,0.0000001],lambdas =[0.0001,0.001,0.01,0.1,0.5])\n",
    "res_losses"
   ]
  },
  {
   "cell_type": "code",
   "execution_count": 36,
   "id": "bf820c29-ad7c-42dc-b5ad-8a48b4a74566",
   "metadata": {},
   "outputs": [
    {
     "data": {
      "text/plain": [
       "[array([[-33252.10504224]]),\n",
       " array([[-39625.09924197]]),\n",
       " array([[-24976.38451715]]),\n",
       " array([[-11283.1753931]])]"
      ]
     },
     "execution_count": 36,
     "metadata": {},
     "output_type": "execute_result"
    }
   ],
   "source": [
    "w_list, loss_list=PenalizedLogisticRegressionSubmission(y1, tX_11, max_iters = 2000,threshold = 1e-6,gammas = res_gammas,lambdas = res_lambdas)\n",
    "loss_list"
   ]
  },
  {
   "cell_type": "markdown",
   "id": "7746849a-656d-48e1-9e91-65dbf555a615",
   "metadata": {},
   "source": [
    "1.2. Don't drop correlated columns"
   ]
  },
  {
   "cell_type": "code",
   "execution_count": 11,
   "id": "d07d78d0-0ab4-44ce-ab2a-c769aee8785e",
   "metadata": {},
   "outputs": [],
   "source": [
    "tX_12=tXcl1[:]"
   ]
  },
  {
   "cell_type": "markdown",
   "id": "eba9de5b-a391-4b6d-929a-ffc4afc97122",
   "metadata": {},
   "source": [
    "Standartization"
   ]
  },
  {
   "cell_type": "code",
   "execution_count": 13,
   "id": "7c470dc1-a2eb-4f7a-b1b1-4eb8495fbb33",
   "metadata": {},
   "outputs": [],
   "source": [
    "tX_12=standartization(tX_12)"
   ]
  },
  {
   "cell_type": "markdown",
   "id": "2646544e-9acb-498c-94fc-738c26e527c3",
   "metadata": {},
   "source": [
    "##### Build models"
   ]
  },
  {
   "cell_type": "markdown",
   "id": "2b77e088-1a00-48e4-9f60-254de79cce25",
   "metadata": {},
   "source": [
    "###### Linear regression"
   ]
  },
  {
   "cell_type": "code",
   "execution_count": 14,
   "id": "99197a4a-67ac-4f13-bfcc-580032994496",
   "metadata": {},
   "outputs": [
    {
     "data": {
      "text/plain": [
       "[0.8647537511511847,\n",
       " 0.9144678771346525,\n",
       " 0.8505369018167519,\n",
       " 0.9338663179974429]"
      ]
     },
     "execution_count": 14,
     "metadata": {},
     "output_type": "execute_result"
    }
   ],
   "source": [
    "w_list,loss_list=LinearRegressionSubmission(y1,tX_12)\n",
    "loss_list"
   ]
  },
  {
   "cell_type": "markdown",
   "id": "978e3576-b516-44f5-8ef9-4c5eb2b16e11",
   "metadata": {},
   "source": [
    "###### Polynomial regression"
   ]
  },
  {
   "cell_type": "code",
   "execution_count": 178,
   "id": "1b916893-72dc-43c9-bbd4-02b64d5e64e1",
   "metadata": {},
   "outputs": [
    {
     "name": "stdout",
     "output_type": "stream",
     "text": [
      "Best degree for subset 0: 1, test error: 0.7915800262354789\n",
      "Best degree for subset 1: 3, test error: 0.8347865851048581\n",
      "Best degree for subset 2: 4, test error: 0.7843550956691419\n",
      "Best degree for subset 3: 4, test error: 0.7972454371526613\n"
     ]
    }
   ],
   "source": [
    "deg,min=PolynomialRegressionSubmission(y1,tX_12,degrees=[i for i in range(12)],k_fold=4,seed=1)"
   ]
  },
  {
   "cell_type": "markdown",
   "id": "1e8d5262-8344-42c0-85fe-ebd67b61bcbd",
   "metadata": {},
   "source": [
    "###### Ridge regression"
   ]
  },
  {
   "cell_type": "code",
   "execution_count": 179,
   "id": "7f6554de-fcdb-4059-80c4-69f3e0317b0d",
   "metadata": {},
   "outputs": [
    {
     "name": "stdout",
     "output_type": "stream",
     "text": [
      "Best parameters for 0 subset are: 1 0.01  with error:  0.7926336688403303\n",
      "Best parameters for 1 subset are: 3 0.01  with error:  0.8370794764896661\n",
      "Best parameters for 2 subset are: 4 0.01  with error:  0.785595954866555\n",
      "Best parameters for 3 subset are: 4 0.01  with error:  0.7989338581963376\n"
     ]
    }
   ],
   "source": [
    "gammas,lambdas,losses=RidgeRegressionSubmission(y1,tX_12,num_degrees=5,k_fold=4,seed=1,lambdas=np.logspace(-2,1,8))"
   ]
  },
  {
   "cell_type": "markdown",
   "id": "44a3125b-fc02-43de-a1ce-0c1bb40c7766",
   "metadata": {},
   "source": [
    "###### Gradient descent"
   ]
  },
  {
   "cell_type": "code",
   "execution_count": 237,
   "id": "8467e705-3ab7-459d-9f98-480563de4acb",
   "metadata": {},
   "outputs": [
    {
     "data": {
      "text/plain": [
       "[0.8649898904578096, 0.9148692677443079, 0.8507563885430097, 0.934309052790843]"
      ]
     },
     "execution_count": 237,
     "metadata": {},
     "output_type": "execute_result"
    }
   ],
   "source": [
    "w_list, loss_list=GradientDescentSubmission(y1,tX_12, max_iters=1000, gamma=0.05)\n",
    "loss_list"
   ]
  },
  {
   "cell_type": "markdown",
   "id": "29251efc-03a7-4534-b145-be64790f031f",
   "metadata": {},
   "source": [
    "###### Stochastic gradient descent"
   ]
  },
  {
   "cell_type": "code",
   "execution_count": 238,
   "id": "6471c50f-5bac-4dd4-b05c-1edcbd919a20",
   "metadata": {},
   "outputs": [
    {
     "data": {
      "text/plain": [
       "[0.8978291300010686,\n",
       " 0.9612131667381086,\n",
       " 0.9560577372562178,\n",
       " 1.0383759283176628]"
      ]
     },
     "execution_count": 238,
     "metadata": {},
     "output_type": "execute_result"
    }
   ],
   "source": [
    "w_list, loss_list=StochasticGradientDescentSubmission(y1, tX_12,max_iters=1000,gamma=0.01,batch_size=1)\n",
    "loss_list"
   ]
  },
  {
   "cell_type": "markdown",
   "id": "9f431a3a-f015-4a86-be34-a6cd00c50538",
   "metadata": {},
   "source": [
    "###### Logistic regression"
   ]
  },
  {
   "cell_type": "code",
   "execution_count": 163,
   "id": "b6470e03-9262-47ca-b564-3930135917c6",
   "metadata": {},
   "outputs": [
    {
     "name": "stdout",
     "output_type": "stream",
     "text": [
      "\n",
      "Best loss for subset 0=-33233.5107167938\n",
      "\n",
      "\n",
      "Best loss for subset 1=-39556.656572097665\n",
      "\n",
      "\n",
      "Best loss for subset 2=-24672.61290494673\n",
      "\n",
      "\n",
      "Best loss for subset 3=-11231.31214426626\n",
      "\n"
     ]
    }
   ],
   "source": [
    "w_list, loss_list=LogisticRegressionSubmission(y1, tX_12, max_iter=10000,threshold=1e-6,gamma=0.00001)"
   ]
  },
  {
   "cell_type": "markdown",
   "id": "386e5bfc-b283-4edc-9e86-7586aa3f599e",
   "metadata": {},
   "source": [
    "###### Logistic penalized regression"
   ]
  },
  {
   "cell_type": "code",
   "execution_count": 15,
   "id": "51249c55-ef6f-4ca8-bbd9-7fe6e5cb284f",
   "metadata": {},
   "outputs": [
    {
     "name": "stdout",
     "output_type": "stream",
     "text": [
      "Best parameters for 0 subset are: 1e-05 0.0001  with error:  -33275.3821029691\n",
      "Best parameters for 1 subset are: 1e-05 0.001  with error:  -39580.400210822634\n",
      "Best parameters for 2 subset are: 1e-05 0.5  with error:  -24706.225266526264\n",
      "Best parameters for 3 subset are: 1e-05 0.0001  with error:  -11266.27453003462\n"
     ]
    },
    {
     "data": {
      "text/plain": [
       "[-33275.3821029691,\n",
       " -39580.400210822634,\n",
       " -24706.225266526264,\n",
       " -11266.27453003462]"
      ]
     },
     "execution_count": 15,
     "metadata": {},
     "output_type": "execute_result"
    }
   ],
   "source": [
    "res_gammas,res_lambdas,res_losses=PenalizedLogisticRegressionValidation(y1, tX_12, max_iters=2000,threshold=1e-6,k_fold = 4,seed=1,gammas = [0.00001,0.000001,0.0000001],lambdas =[0.0001,0.001,0.01,0.1,0.5])\n",
    "res_losses"
   ]
  },
  {
   "cell_type": "code",
   "execution_count": 16,
   "id": "5f78b8a0-31a3-40c2-953d-07d2300af060",
   "metadata": {},
   "outputs": [
    {
     "data": {
      "text/plain": [
       "[array([[-33233.66688741]]),\n",
       " array([[-39556.65344101]]),\n",
       " array([[-24669.31854236]]),\n",
       " array([[-11231.64203219]])]"
      ]
     },
     "execution_count": 16,
     "metadata": {},
     "output_type": "execute_result"
    }
   ],
   "source": [
    "w_list, loss_list=PenalizedLogisticRegressionSubmission(y1, tX_12, max_iters = 2000,threshold = 1e-6,gammas = res_gammas,lambdas = res_lambdas)\n",
    "loss_list"
   ]
  },
  {
   "cell_type": "code",
   "execution_count": 20,
   "id": "cd0169e0-d611-4fba-8f1f-81e6ce38bc8d",
   "metadata": {},
   "outputs": [
    {
     "name": "stdout",
     "output_type": "stream",
     "text": [
      "Accuracy for subset 0 is 0.787708361566608\n",
      "Accuracy for subset 1 is 0.694392843874139\n",
      "Accuracy for subset 2 is 0.7359520947983216\n",
      "Accuracy for subset 3 is 0.7196306859380287\n"
     ]
    }
   ],
   "source": [
    "w=w_list[:]\n",
    "acc=[]\n",
    "#Accuracy\n",
    "for i in range(4):\n",
    "    print('Accuracy for subset {i} is {acc}'.format(i=i,acc=np.sum(np.where(sigmoid(np.c_[np.ones((y1[i].shape[0], 1)), tX_12[i]]@w[i])>0.5,1,0)==((y1[i].reshape(y1[i].shape[0],1)+1)/2.0).astype('int'))/y1[i].shape[0]))\n",
    "    acc.append(np.sum(np.where(sigmoid(np.c_[np.ones((y1[i].shape[0], 1)), tX_12[i]]@w[i])>0.5,1,0)==((y1[i].reshape(y1[i].shape[0],1)+1)/2.0).astype('int'))/y1[i].shape[0])"
   ]
  },
  {
   "cell_type": "markdown",
   "id": "8236aa95-ef1c-4445-b384-84b4a0ae9f90",
   "metadata": {},
   "source": [
    "##### 2.Replace rows with NaNs in the first column with mean values"
   ]
  },
  {
   "cell_type": "code",
   "execution_count": 37,
   "id": "c85e9e0e-fc9c-4286-8417-cef21acf48bd",
   "metadata": {},
   "outputs": [],
   "source": [
    "tXcl2=first_column_nan_substitute(tXcl)\n",
    "y2=ty[:]\n",
    "ids2=ids[:]"
   ]
  },
  {
   "cell_type": "markdown",
   "id": "5f4aa67a-e072-4494-b94c-8562f4954be6",
   "metadata": {},
   "source": [
    "2.1. Drop correlated columns"
   ]
  },
  {
   "cell_type": "code",
   "execution_count": 38,
   "id": "7c74ea71-e19e-4df8-ba5d-54a2c5018bce",
   "metadata": {},
   "outputs": [],
   "source": [
    "tX_21=drop_correlated_columns_nan_substituted(tXcl2)"
   ]
  },
  {
   "cell_type": "markdown",
   "id": "2ee9831c-4e21-4f5d-ad47-ba87dd047e54",
   "metadata": {},
   "source": [
    "Standartization"
   ]
  },
  {
   "cell_type": "code",
   "execution_count": 40,
   "id": "d6e01d9e-77d7-437f-92ae-52a888acb6db",
   "metadata": {},
   "outputs": [],
   "source": [
    "tX_21=standartization(tX_21)"
   ]
  },
  {
   "cell_type": "markdown",
   "id": "00ff22b7-724e-4b22-83ca-dce8e9483813",
   "metadata": {},
   "source": [
    "##### Build models"
   ]
  },
  {
   "cell_type": "markdown",
   "id": "0f88127f-b4dd-4419-afe8-1941e5b940d7",
   "metadata": {},
   "source": [
    "###### Linear regression"
   ]
  },
  {
   "cell_type": "code",
   "execution_count": 41,
   "id": "17792d92-8a3c-4fe8-a510-7dfde1b9c78e",
   "metadata": {},
   "outputs": [
    {
     "data": {
      "text/plain": [
       "[0.8854946635070715,\n",
       " 0.9095655755698142,\n",
       " 0.8444161085281339,\n",
       " 0.9356393670561948]"
      ]
     },
     "execution_count": 41,
     "metadata": {},
     "output_type": "execute_result"
    }
   ],
   "source": [
    "w_list,loss_list=LinearRegressionSubmission(y2,tX_21)\n",
    "loss_list"
   ]
  },
  {
   "cell_type": "markdown",
   "id": "adb31135-4bfb-4a24-8eb9-d442b57c04d1",
   "metadata": {},
   "source": [
    "###### Polynomial regression"
   ]
  },
  {
   "cell_type": "code",
   "execution_count": 259,
   "id": "84656616-e7db-43db-98d0-c4b25c990c1b",
   "metadata": {},
   "outputs": [
    {
     "name": "stdout",
     "output_type": "stream",
     "text": [
      "Best degree for subset 0: 1, test error: 0.7380293813836168\n",
      "Best degree for subset 1: 3, test error: 0.8259035310516788\n",
      "Best degree for subset 2: 3, test error: 0.8082072627789713\n",
      "Best degree for subset 3: 3, test error: 0.8077675881019319\n"
     ]
    }
   ],
   "source": [
    "deg,min=PolynomialRegressionSubmission(y2,tX_21,degrees=[i for i in range(12)],k_fold=4,seed=1)"
   ]
  },
  {
   "cell_type": "markdown",
   "id": "b4e43acd-1fa3-4bdc-bddf-e9f0b369f592",
   "metadata": {},
   "source": [
    "###### Ridge regression"
   ]
  },
  {
   "cell_type": "code",
   "execution_count": 260,
   "id": "44c044b5-a2ca-4b2d-9398-33813fe33adc",
   "metadata": {},
   "outputs": [
    {
     "name": "stdout",
     "output_type": "stream",
     "text": [
      "Best parameters for 0 subset are: 1 0.01  with error:  0.7387782107877823\n",
      "Best parameters for 1 subset are: 4 0.02682695795279726  with error:  0.8220307965200957\n",
      "Best parameters for 2 subset are: 4 0.01  with error:  0.8085692503252808\n",
      "Best parameters for 3 subset are: 3 0.01  with error:  0.8093161658986808\n"
     ]
    }
   ],
   "source": [
    "gammas,lambdas,losses=RidgeRegressionSubmission(y2,tX_21,num_degrees=5,k_fold=4,seed=1,lambdas=np.logspace(-2,1,8))"
   ]
  },
  {
   "cell_type": "markdown",
   "id": "af32f66b-5925-4ed7-940f-b8ad26c3140f",
   "metadata": {},
   "source": [
    "###### Gradient descent"
   ]
  },
  {
   "cell_type": "code",
   "execution_count": 261,
   "id": "657d9225-9b5f-48ec-a61a-5623b3143f64",
   "metadata": {},
   "outputs": [
    {
     "data": {
      "text/plain": [
       "[0.8854946635070715,\n",
       " 0.9095655755698142,\n",
       " 0.8444161085281339,\n",
       " 0.9356393670561948]"
      ]
     },
     "execution_count": 261,
     "metadata": {},
     "output_type": "execute_result"
    }
   ],
   "source": [
    "w_list, loss_list=GradientDescentSubmission(y2,tX_21, max_iters=1000, gamma=0.5)\n",
    "loss_list"
   ]
  },
  {
   "cell_type": "markdown",
   "id": "26be81cb-7433-46ff-bab9-01fb34231702",
   "metadata": {},
   "source": [
    "###### Stochastic gradient descent"
   ]
  },
  {
   "cell_type": "code",
   "execution_count": 262,
   "id": "864a7f1f-d2c4-4254-92b1-021142e6459c",
   "metadata": {},
   "outputs": [
    {
     "data": {
      "text/plain": [
       "[0.9144629822800107,\n",
       " 0.9277818853983163,\n",
       " 0.8741086265345123,\n",
       " 0.9508634497055394]"
      ]
     },
     "execution_count": 262,
     "metadata": {},
     "output_type": "execute_result"
    }
   ],
   "source": [
    "w_list, loss_list=StochasticGradientDescentSubmission(y2, tX_21,max_iters=1000,gamma=0.001,batch_size=1)\n",
    "loss_list"
   ]
  },
  {
   "cell_type": "markdown",
   "id": "27193b5d-8654-4f1a-a951-7d16e670eb3a",
   "metadata": {},
   "source": [
    "###### Logistic regression"
   ]
  },
  {
   "cell_type": "code",
   "execution_count": 263,
   "id": "e030a2fe-2966-4899-84ed-3ae2e1b373d9",
   "metadata": {},
   "outputs": [
    {
     "name": "stdout",
     "output_type": "stream",
     "text": [
      "Best loss for subset 0=-39102.27490455411\n",
      "Best loss for subset 1=-41959.30321668912\n",
      "Best loss for subset 2=-26173.11247717419\n",
      "Best loss for subset 3=-11740.7069878609\n"
     ]
    }
   ],
   "source": [
    "w_list, loss_list=LogisticRegressionSubmission(y2, tX_21, max_iter=10000,threshold=1e-6,gamma=0.00001)"
   ]
  },
  {
   "cell_type": "markdown",
   "id": "54e5696a-e510-44fb-a2a1-9cffe325435c",
   "metadata": {},
   "source": [
    "###### Logistic penalized regression"
   ]
  },
  {
   "cell_type": "code",
   "execution_count": 42,
   "id": "0f56894d-15dd-4e6c-abdb-7a9056315d86",
   "metadata": {},
   "outputs": [
    {
     "name": "stdout",
     "output_type": "stream",
     "text": [
      "Best parameters for 0 subset are: 1e-05 0.0001  with error:  -39121.0577721062\n",
      "Best parameters for 1 subset are: 1e-05 0.5  with error:  -41995.54136541851\n",
      "Best parameters for 2 subset are: 1e-05 0.5  with error:  -26208.13543218638\n",
      "Best parameters for 3 subset are: 1e-05 0.001  with error:  -11774.2246217849\n"
     ]
    },
    {
     "data": {
      "text/plain": [
       "[-39121.0577721062, -41995.54136541851, -26208.13543218638, -11774.2246217849]"
      ]
     },
     "execution_count": 42,
     "metadata": {},
     "output_type": "execute_result"
    }
   ],
   "source": [
    "res_gammas,res_lambdas,res_losses=PenalizedLogisticRegressionValidation(y2, tX_21, max_iters=2000,threshold=1e-6,k_fold = 4,seed=1,gammas = [0.00001,0.000001,0.0000001],lambdas =[0.0001,0.001,0.01,0.1,0.5])\n",
    "res_losses"
   ]
  },
  {
   "cell_type": "code",
   "execution_count": null,
   "id": "4197843d-5920-405a-83f2-e14e343d5e3a",
   "metadata": {},
   "outputs": [],
   "source": [
    "w_list, loss_list=PenalizedLogisticRegressionSubmission(y2, tX_21, max_iters = 2000,threshold = 1e-6,gammas = res_gammas,lambdas = res_lambdas)\n",
    "loss_list"
   ]
  },
  {
   "cell_type": "markdown",
   "id": "270bbda3-09eb-45b9-88cb-ac932bb3d44a",
   "metadata": {},
   "source": [
    "2.2. Don't drop correlated columns"
   ]
  },
  {
   "cell_type": "code",
   "execution_count": 46,
   "id": "b2406abe-d7fa-4355-90a4-97509ea32678",
   "metadata": {},
   "outputs": [],
   "source": [
    "tX_22=tXcl2[:]"
   ]
  },
  {
   "cell_type": "markdown",
   "id": "84ca3fc1-67bc-454f-b0cf-1c7e4ddbcd88",
   "metadata": {},
   "source": [
    "Standartization"
   ]
  },
  {
   "cell_type": "code",
   "execution_count": 48,
   "id": "60ae9679-dc8e-465b-827b-56df2b52930f",
   "metadata": {},
   "outputs": [],
   "source": [
    "tX_22=standartization(tX_22)"
   ]
  },
  {
   "cell_type": "markdown",
   "id": "8c3cd68b-c976-4794-9682-acf82868ca0b",
   "metadata": {},
   "source": [
    "##### Build models"
   ]
  },
  {
   "cell_type": "markdown",
   "id": "36bb389f-d614-4b35-b5d9-d0e7511db6f7",
   "metadata": {},
   "source": [
    "###### Linear regression"
   ]
  },
  {
   "cell_type": "code",
   "execution_count": 49,
   "id": "07b8604c-37cb-4cc4-bf29-77a52a00ddc3",
   "metadata": {},
   "outputs": [
    {
     "data": {
      "text/plain": [
       "[0.8854930845038358,\n",
       " 0.9092337659068742,\n",
       " 0.8433782955671758,\n",
       " 0.9343474433199054]"
      ]
     },
     "execution_count": 49,
     "metadata": {},
     "output_type": "execute_result"
    }
   ],
   "source": [
    "w_list,loss_list=LinearRegressionSubmission(y2,tX_22)\n",
    "loss_list"
   ]
  },
  {
   "cell_type": "markdown",
   "id": "6cf31fb3-c5a8-4e7d-b70c-0db9191b659e",
   "metadata": {},
   "source": [
    "###### Polynomial regression"
   ]
  },
  {
   "cell_type": "code",
   "execution_count": 267,
   "id": "59823d33-a68f-4db1-847d-9701a1300128",
   "metadata": {},
   "outputs": [
    {
     "name": "stdout",
     "output_type": "stream",
     "text": [
      "Best degree for subset 0: 1, test error: 0.7380763150136135\n",
      "Best degree for subset 1: 5, test error: 0.814869875083629\n",
      "Best degree for subset 2: 3, test error: 0.7863620919191471\n",
      "Best degree for subset 3: 4, test error: 0.7896934963140386\n"
     ]
    }
   ],
   "source": [
    "deg,min=PolynomialRegressionSubmission(y2,tX_22,degrees=[i for i in range(12)],k_fold=4,seed=1)"
   ]
  },
  {
   "cell_type": "markdown",
   "id": "99ee3339-cc74-4576-8cac-4e4839c8487c",
   "metadata": {},
   "source": [
    "###### Ridge regression"
   ]
  },
  {
   "cell_type": "code",
   "execution_count": 52,
   "id": "03d9aa6d-eb75-44b3-a36e-dbe18a5e43cf",
   "metadata": {},
   "outputs": [
    {
     "name": "stdout",
     "output_type": "stream",
     "text": [
      "Best parameters for 0 subset are: 1 0.0001  with error:  0.7380539413813467\n",
      "Best parameters for 1 subset are: 5 0.050100000000000006  with error:  0.806331753108808\n",
      "Best parameters for 2 subset are: 4 0.050100000000000006  with error:  0.780237177066464\n",
      "Best parameters for 3 subset are: 4 0.0001  with error:  0.7895958031286999\n"
     ]
    }
   ],
   "source": [
    "degrees,lambdas,losses=RidgeRegressionSubmission(y2,tX_22,num_degrees=8,k_fold=4,seed=1,lambdas=np.arange(0.0001,1,0.05))"
   ]
  },
  {
   "cell_type": "markdown",
   "id": "d7580ce3-61f1-4a55-a183-c54394b05fcc",
   "metadata": {},
   "source": [
    "###### Gradient descent"
   ]
  },
  {
   "cell_type": "code",
   "execution_count": 269,
   "id": "f188b99c-8533-4a1f-b287-051c74f5e4a7",
   "metadata": {},
   "outputs": [
    {
     "data": {
      "text/plain": [
       "[0.885598012264926, 0.9092724483603103, 0.8433898349896397, 0.934406000498198]"
      ]
     },
     "execution_count": 269,
     "metadata": {},
     "output_type": "execute_result"
    }
   ],
   "source": [
    "w_list, loss_list=GradientDescentSubmission(y2,tX_22, max_iters=1000, gamma=0.05)\n",
    "loss_list"
   ]
  },
  {
   "cell_type": "markdown",
   "id": "e790700e-2d9a-4c80-9b58-099575a86bb7",
   "metadata": {},
   "source": [
    "###### Stochastic gradient descent"
   ]
  },
  {
   "cell_type": "code",
   "execution_count": 270,
   "id": "586a595e-b48a-4696-80e7-723b0d22c450",
   "metadata": {},
   "outputs": [
    {
     "data": {
      "text/plain": [
       "[0.9991412156473284,\n",
       " 0.9571575913025117,\n",
       " 0.9039585455435363,\n",
       " 0.9921416560314384]"
      ]
     },
     "execution_count": 270,
     "metadata": {},
     "output_type": "execute_result"
    }
   ],
   "source": [
    "w_list, loss_list=StochasticGradientDescentSubmission(y2, tX_22,max_iters=1000,gamma=0.01,batch_size=1)\n",
    "loss_list"
   ]
  },
  {
   "cell_type": "markdown",
   "id": "291be016-6f35-4900-9bd8-f0a12c6c04fc",
   "metadata": {},
   "source": [
    "###### Logistic regression"
   ]
  },
  {
   "cell_type": "code",
   "execution_count": 271,
   "id": "a840ce77-1d86-4e3d-a51a-c8a02e495dd8",
   "metadata": {},
   "outputs": [
    {
     "name": "stdout",
     "output_type": "stream",
     "text": [
      "Best loss for subset 0=-39100.22614569591\n",
      "Best loss for subset 1=-41929.26275216942\n",
      "Best loss for subset 2=-25970.765912595896\n",
      "Best loss for subset 3=-11703.940815078236\n"
     ]
    }
   ],
   "source": [
    "w_list, loss_list=LogisticRegressionSubmission(y2, tX_22, max_iter=10000,threshold=1e-6,gamma=0.00001)"
   ]
  },
  {
   "cell_type": "markdown",
   "id": "4d9e04a6-c10e-4c17-a47f-6f7f8a5f70b2",
   "metadata": {},
   "source": [
    "###### Logistic penalized regression"
   ]
  },
  {
   "cell_type": "code",
   "execution_count": null,
   "id": "73c5b37a-64e6-433e-aa8f-37d53b3876bc",
   "metadata": {},
   "outputs": [],
   "source": [
    "res_gammas,res_lambdas,res_losses=PenalizedLogisticRegressionValidation(y2, tX_22, max_iters=2000,threshold=1e-6,k_fold = 4,seed=1,gammas = [0.00001],lambdas =[0.01])\n",
    "res_losses"
   ]
  },
  {
   "cell_type": "code",
   "execution_count": null,
   "id": "4a68aa37-b739-480d-b217-929f2b4ab290",
   "metadata": {},
   "outputs": [],
   "source": [
    "w_list, loss_list=PenalizedLogisticRegressionSubmission(y2, tX_22, max_iters = 2000,threshold = 1e-6,gammas = res_gammas,lambdas = res_lambdas)\n",
    "loss_list"
   ]
  }
 ],
 "metadata": {
  "kernelspec": {
   "display_name": "Python [conda env:ml] *",
   "language": "python",
   "name": "conda-env-ml-py"
  },
  "language_info": {
   "codemirror_mode": {
    "name": "ipython",
    "version": 3
   },
   "file_extension": ".py",
   "mimetype": "text/x-python",
   "name": "python",
   "nbconvert_exporter": "python",
   "pygments_lexer": "ipython3",
   "version": "3.8.11"
  }
 },
 "nbformat": 4,
 "nbformat_minor": 5
}
